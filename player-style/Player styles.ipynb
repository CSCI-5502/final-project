{
 "cells": [
  {
   "cell_type": "code",
   "execution_count": 3,
   "metadata": {},
   "outputs": [],
   "source": [
    "import os\n",
    "import glob\n",
    "from pathlib import Path\n",
    "\n",
    "import json\n",
    "import csv\n",
    "import numpy as np\n",
    "import pandas as pd \n",
    "import sklearn as sk \n",
    "from sklearn.manifold import TSNE"
   ]
  },
  {
   "cell_type": "markdown",
   "metadata": {},
   "source": [
    "Get data"
   ]
  },
  {
   "cell_type": "code",
   "execution_count": 10,
   "metadata": {},
   "outputs": [
    {
     "data": {
      "text/plain": [
       "['ChartingProjectSparsity.json', 'augmented_player_overview.csv', 'aggdf.csv']"
      ]
     },
     "execution_count": 10,
     "metadata": {},
     "output_type": "execute_result"
    }
   ],
   "source": [
    "os.getcwd()\n",
    "os.listdir('./transformed-data/')"
   ]
  },
  {
   "cell_type": "code",
   "execution_count": 12,
   "metadata": {},
   "outputs": [
    {
     "name": "stdout",
     "output_type": "stream",
     "text": [
      "              player  first_pts  first_pts_won  first_aces  first_unret  \\\n",
      "0    Maria_Sharapova     9635.0         6181.0       573.0         81.0   \n",
      "1      Dinara_Safina     1452.0          891.0        57.0         21.0   \n",
      "2  Kimiko_Date_Krumm      766.0          452.0        42.0         21.0   \n",
      "3  Victoria_Azarenka     6627.0         4083.0       417.0        120.0   \n",
      "4       Ana_Ivanovic     2928.0         1894.0       198.0        114.0   \n",
      "\n",
      "   first_forced  first_won_lte_3_shots  second_pts  second_pts_won  \\\n",
      "0        1803.0                 3249.0      5633.0          2551.0   \n",
      "1         168.0                  414.0       768.0           339.0   \n",
      "2         105.0                  246.0       308.0           167.0   \n",
      "3        1113.0                 2157.0      3645.0          1434.0   \n",
      "4         504.0                 1027.0      1744.0           766.0   \n",
      "\n",
      "   second_aces  ...  bk_pts.1  bp_saved.1  return_pts.1  return_pts_won.1  \\\n",
      "0         51.0  ...       NaN         NaN           NaN               NaN   \n",
      "1          9.0  ...       NaN         NaN           NaN               NaN   \n",
      "2          0.0  ...       NaN         NaN           NaN               NaN   \n",
      "3         18.0  ...       NaN         NaN           NaN               NaN   \n",
      "4         21.0  ...       NaN         NaN           NaN               NaN   \n",
      "\n",
      "   winners.7  winners_fh.1  winners_bh.1  unforced.7  unforced_fh.1  \\\n",
      "0        NaN           NaN           NaN         NaN            NaN   \n",
      "1        NaN           NaN           NaN         NaN            NaN   \n",
      "2        NaN           NaN           NaN         NaN            NaN   \n",
      "3        NaN           NaN           NaN         NaN            NaN   \n",
      "4        NaN           NaN           NaN         NaN            NaN   \n",
      "\n",
      "   unforced_bh.1  \n",
      "0            NaN  \n",
      "1            NaN  \n",
      "2            NaN  \n",
      "3            NaN  \n",
      "4            NaN  \n",
      "\n",
      "[5 rows x 192 columns]\n"
     ]
    }
   ],
   "source": [
    "filepath = \"./transformed-data/aggdf.csv\"\n",
    "df = pd.read_csv(filepath)\n",
    "print(df.head())\n"
   ]
  },
  {
   "cell_type": "code",
   "execution_count": null,
   "metadata": {},
   "outputs": [],
   "source": []
  }
 ],
 "metadata": {
  "kernelspec": {
   "display_name": "Python 3",
   "language": "python",
   "name": "python3"
  },
  "language_info": {
   "codemirror_mode": {
    "name": "ipython",
    "version": 3
   },
   "file_extension": ".py",
   "mimetype": "text/x-python",
   "name": "python",
   "nbconvert_exporter": "python",
   "pygments_lexer": "ipython3",
   "version": "3.7.3"
  }
 },
 "nbformat": 4,
 "nbformat_minor": 4
}
