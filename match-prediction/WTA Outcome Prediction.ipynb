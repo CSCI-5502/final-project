{
 "cells": [
  {
   "cell_type": "markdown",
   "metadata": {},
   "source": [
    "WTA data from Kaggle - 2000 to 2016"
   ]
  },
  {
   "cell_type": "code",
   "execution_count": 1,
   "metadata": {},
   "outputs": [],
   "source": [
    "import time\n",
    "import numpy as np\n",
    "import pandas as pd\n",
    "import os\n",
    "from sklearn.tree import DecisionTreeClassifier\n",
    "from sklearn.neighbors import KNeighborsClassifier\n",
    "from sklearn.model_selection import cross_val_score\n",
    "from sklearn.neural_network import MLPClassifier\n",
    "from sklearn import ensemble\n",
    "from sklearn import svm\n",
    "import random\n",
    "import matplotlib.pyplot as plt\n",
    "from sklearn.model_selection import GridSearchCV\n",
    "from sklearn.preprocessing import StandardScaler\n",
    "from sklearn.preprocessing import MinMaxScaler\n",
    "import math\n",
    "import matplotlib.ticker as plticker\n",
    "import matplotlib.patches as mpatches\n",
    "import matplotlib.lines as mlines\n",
    "from sklearn.metrics import classification_report\n",
    "from sklearn.metrics import confusion_matrix\n",
    "from sklearn import metrics \n",
    "from sklearn.ensemble import AdaBoostClassifier\n",
    "import matplotlib.cm as cm\n",
    "from matplotlib.colors import Normalize"
   ]
  },
  {
   "cell_type": "code",
   "execution_count": 2,
   "metadata": {},
   "outputs": [],
   "source": [
    "df = pd.read_csv('combined.csv')"
   ]
  },
  {
   "cell_type": "code",
   "execution_count": 3,
   "metadata": {},
   "outputs": [
    {
     "name": "stdout",
     "output_type": "stream",
     "text": [
      "<class 'pandas.core.frame.DataFrame'>\n",
      "RangeIndex: 36456 entries, 0 to 36455\n",
      "Data columns (total 49 columns):\n",
      "best_of               36456 non-null int64\n",
      "draw_size             36456 non-null int64\n",
      "l_1stIn               19768 non-null float64\n",
      "l_1stWon              19768 non-null float64\n",
      "l_2ndWon              19768 non-null float64\n",
      "l_SvGms               103 non-null float64\n",
      "l_ace                 19761 non-null float64\n",
      "l_bpFaced             19766 non-null float64\n",
      "l_bpSaved             19766 non-null float64\n",
      "l_df                  19732 non-null float64\n",
      "l_svpt                19767 non-null float64\n",
      "loser_age             36452 non-null float64\n",
      "loser_entry           7524 non-null object\n",
      "loser_hand            35825 non-null object\n",
      "loser_ht              22367 non-null float64\n",
      "loser_id              36456 non-null int64\n",
      "loser_ioc             36456 non-null object\n",
      "loser_name            36456 non-null object\n",
      "loser_rank            34773 non-null float64\n",
      "loser_rank_points     34773 non-null float64\n",
      "loser_seed            8358 non-null float64\n",
      "match_num             36456 non-null int64\n",
      "minutes               103 non-null float64\n",
      "round                 36456 non-null object\n",
      "score                 36456 non-null object\n",
      "surface               36413 non-null object\n",
      "tourney_date          36456 non-null int64\n",
      "tourney_id            36456 non-null object\n",
      "tourney_level         36456 non-null object\n",
      "tourney_name          36456 non-null object\n",
      "w_1stIn               19768 non-null float64\n",
      "w_1stWon              19768 non-null float64\n",
      "w_2ndWon              19768 non-null float64\n",
      "w_SvGms               103 non-null float64\n",
      "w_ace                 19766 non-null float64\n",
      "w_bpFaced             19763 non-null float64\n",
      "w_bpSaved             19763 non-null float64\n",
      "w_df                  19732 non-null float64\n",
      "w_svpt                19768 non-null float64\n",
      "winner_age            36456 non-null float64\n",
      "winner_entry          4672 non-null object\n",
      "winner_hand           36279 non-null object\n",
      "winner_ht             26446 non-null float64\n",
      "winner_id             36456 non-null int64\n",
      "winner_ioc            36456 non-null object\n",
      "winner_name           36456 non-null object\n",
      "winner_rank           35528 non-null float64\n",
      "winner_rank_points    35528 non-null float64\n",
      "winner_seed           15766 non-null float64\n",
      "dtypes: float64(29), int64(6), object(14)\n",
      "memory usage: 13.6+ MB\n"
     ]
    }
   ],
   "source": [
    "df.info()"
   ]
  },
  {
   "cell_type": "code",
   "execution_count": 4,
   "metadata": {},
   "outputs": [
    {
     "name": "stdout",
     "output_type": "stream",
     "text": [
      "<class 'pandas.core.frame.DataFrame'>\n",
      "RangeIndex: 36456 entries, 0 to 36455\n",
      "Data columns (total 22 columns):\n",
      "best_of         36456 non-null int64\n",
      "draw_size       36456 non-null int64\n",
      "l_1stIn         36456 non-null float64\n",
      "l_1stWon        36456 non-null float64\n",
      "l_2ndWon        36456 non-null float64\n",
      "l_SvGms         36456 non-null float64\n",
      "l_ace           36456 non-null float64\n",
      "l_bpFaced       36456 non-null float64\n",
      "l_bpSaved       36456 non-null float64\n",
      "l_df            36456 non-null float64\n",
      "l_svpt          36456 non-null float64\n",
      "tourney_id      36456 non-null object\n",
      "tourney_name    36456 non-null object\n",
      "w_1stIn         36456 non-null float64\n",
      "w_1stWon        36456 non-null float64\n",
      "w_2ndWon        36456 non-null float64\n",
      "w_SvGms         36456 non-null float64\n",
      "w_ace           36456 non-null float64\n",
      "w_bpFaced       36456 non-null float64\n",
      "w_bpSaved       36456 non-null float64\n",
      "w_df            36456 non-null float64\n",
      "w_svpt          36456 non-null float64\n",
      "dtypes: float64(18), int64(2), object(2)\n",
      "memory usage: 6.1+ MB\n"
     ]
    },
    {
     "data": {
      "text/plain": [
       "Index(['best_of', 'draw_size', 'l_1stIn', 'l_1stWon', 'l_2ndWon', 'l_SvGms',\n",
       "       'l_ace', 'l_bpFaced', 'l_bpSaved', 'l_df', 'l_svpt', 'tourney_id',\n",
       "       'tourney_name', 'w_1stIn', 'w_1stWon', 'w_2ndWon', 'w_SvGms', 'w_ace',\n",
       "       'w_bpFaced', 'w_bpSaved', 'w_df', 'w_svpt'],\n",
       "      dtype='object')"
      ]
     },
     "execution_count": 4,
     "metadata": {},
     "output_type": "execute_result"
    }
   ],
   "source": [
    "df = df.drop(columns=[\"tourney_date\", \"match_num\", \"winner_id\", \"winner_seed\", \"tourney_level\", \"winner_ioc\",\\\n",
    "                                    \"winner_rank_points\", \"winner_entry\",\"winner_name\", \"loser_id\", \"loser_seed\", \"loser_rank_points\", \"loser_entry\", \"loser_ioc\",\\\n",
    "                                    \"score\", \"round\", \"loser_name\", \"minutes\",\"surface\", \"winner_hand\", \"winner_ht\", \"winner_age\", \"winner_rank\", \"loser_hand\", \"loser_ht\",\\\n",
    "                                    \"loser_age\", \"loser_rank\" ])\n",
    "df1 = df.replace(np.nan, 0, regex=True)\n",
    "df = df1\n",
    "df.info()\n",
    "filtered_df = df\n",
    "df.columns"
   ]
  },
  {
   "cell_type": "code",
   "execution_count": 5,
   "metadata": {},
   "outputs": [
    {
     "data": {
      "text/html": [
       "<div>\n",
       "<style scoped>\n",
       "    .dataframe tbody tr th:only-of-type {\n",
       "        vertical-align: middle;\n",
       "    }\n",
       "\n",
       "    .dataframe tbody tr th {\n",
       "        vertical-align: top;\n",
       "    }\n",
       "\n",
       "    .dataframe thead th {\n",
       "        text-align: right;\n",
       "    }\n",
       "</style>\n",
       "<table border=\"1\" class=\"dataframe\">\n",
       "  <thead>\n",
       "    <tr style=\"text-align: right;\">\n",
       "      <th></th>\n",
       "      <th>ace</th>\n",
       "      <th>df</th>\n",
       "      <th>1stIn</th>\n",
       "      <th>1stWon</th>\n",
       "      <th>2ndWon</th>\n",
       "      <th>SvGms</th>\n",
       "      <th>bpSaved</th>\n",
       "      <th>bpFaced</th>\n",
       "      <th>won</th>\n",
       "    </tr>\n",
       "  </thead>\n",
       "  <tbody>\n",
       "    <tr>\n",
       "      <th>0</th>\n",
       "      <td>0.042857</td>\n",
       "      <td>0.000000</td>\n",
       "      <td>0.187500</td>\n",
       "      <td>0.223684</td>\n",
       "      <td>0.243902</td>\n",
       "      <td>0.0</td>\n",
       "      <td>0.125000</td>\n",
       "      <td>0.121212</td>\n",
       "      <td>1.0</td>\n",
       "    </tr>\n",
       "    <tr>\n",
       "      <th>1</th>\n",
       "      <td>0.028571</td>\n",
       "      <td>0.370370</td>\n",
       "      <td>0.453125</td>\n",
       "      <td>0.421053</td>\n",
       "      <td>0.365854</td>\n",
       "      <td>0.0</td>\n",
       "      <td>0.166667</td>\n",
       "      <td>0.363636</td>\n",
       "      <td>1.0</td>\n",
       "    </tr>\n",
       "    <tr>\n",
       "      <th>2</th>\n",
       "      <td>0.057143</td>\n",
       "      <td>0.074074</td>\n",
       "      <td>0.343750</td>\n",
       "      <td>0.381579</td>\n",
       "      <td>0.317073</td>\n",
       "      <td>0.0</td>\n",
       "      <td>0.250000</td>\n",
       "      <td>0.303030</td>\n",
       "      <td>1.0</td>\n",
       "    </tr>\n",
       "    <tr>\n",
       "      <th>3</th>\n",
       "      <td>0.057143</td>\n",
       "      <td>0.074074</td>\n",
       "      <td>0.242188</td>\n",
       "      <td>0.302632</td>\n",
       "      <td>0.292683</td>\n",
       "      <td>0.0</td>\n",
       "      <td>0.041667</td>\n",
       "      <td>0.060606</td>\n",
       "      <td>1.0</td>\n",
       "    </tr>\n",
       "    <tr>\n",
       "      <th>4</th>\n",
       "      <td>0.100000</td>\n",
       "      <td>0.222222</td>\n",
       "      <td>0.515625</td>\n",
       "      <td>0.631579</td>\n",
       "      <td>0.780488</td>\n",
       "      <td>0.0</td>\n",
       "      <td>0.333333</td>\n",
       "      <td>0.393939</td>\n",
       "      <td>1.0</td>\n",
       "    </tr>\n",
       "  </tbody>\n",
       "</table>\n",
       "</div>"
      ],
      "text/plain": [
       "        ace        df     1stIn    1stWon    2ndWon  SvGms   bpSaved  \\\n",
       "0  0.042857  0.000000  0.187500  0.223684  0.243902    0.0  0.125000   \n",
       "1  0.028571  0.370370  0.453125  0.421053  0.365854    0.0  0.166667   \n",
       "2  0.057143  0.074074  0.343750  0.381579  0.317073    0.0  0.250000   \n",
       "3  0.057143  0.074074  0.242188  0.302632  0.292683    0.0  0.041667   \n",
       "4  0.100000  0.222222  0.515625  0.631579  0.780488    0.0  0.333333   \n",
       "\n",
       "    bpFaced  won  \n",
       "0  0.121212  1.0  \n",
       "1  0.363636  1.0  \n",
       "2  0.303030  1.0  \n",
       "3  0.060606  1.0  \n",
       "4  0.393939  1.0  "
      ]
     },
     "metadata": {},
     "output_type": "display_data"
    },
    {
     "data": {
      "text/html": [
       "<div>\n",
       "<style scoped>\n",
       "    .dataframe tbody tr th:only-of-type {\n",
       "        vertical-align: middle;\n",
       "    }\n",
       "\n",
       "    .dataframe tbody tr th {\n",
       "        vertical-align: top;\n",
       "    }\n",
       "\n",
       "    .dataframe thead th {\n",
       "        text-align: right;\n",
       "    }\n",
       "</style>\n",
       "<table border=\"1\" class=\"dataframe\">\n",
       "  <thead>\n",
       "    <tr style=\"text-align: right;\">\n",
       "      <th></th>\n",
       "      <th>ace</th>\n",
       "      <th>df</th>\n",
       "      <th>1stIn</th>\n",
       "      <th>1stWon</th>\n",
       "      <th>2ndWon</th>\n",
       "      <th>SvGms</th>\n",
       "      <th>bpSaved</th>\n",
       "      <th>bpFaced</th>\n",
       "      <th>won</th>\n",
       "    </tr>\n",
       "  </thead>\n",
       "  <tbody>\n",
       "    <tr>\n",
       "      <th>0</th>\n",
       "      <td>0.042857</td>\n",
       "      <td>0.000000</td>\n",
       "      <td>0.187500</td>\n",
       "      <td>0.223684</td>\n",
       "      <td>0.243902</td>\n",
       "      <td>0.0</td>\n",
       "      <td>0.125000</td>\n",
       "      <td>0.121212</td>\n",
       "      <td>1.0</td>\n",
       "    </tr>\n",
       "    <tr>\n",
       "      <th>1</th>\n",
       "      <td>0.028571</td>\n",
       "      <td>0.370370</td>\n",
       "      <td>0.453125</td>\n",
       "      <td>0.421053</td>\n",
       "      <td>0.365854</td>\n",
       "      <td>0.0</td>\n",
       "      <td>0.166667</td>\n",
       "      <td>0.363636</td>\n",
       "      <td>1.0</td>\n",
       "    </tr>\n",
       "    <tr>\n",
       "      <th>2</th>\n",
       "      <td>0.057143</td>\n",
       "      <td>0.074074</td>\n",
       "      <td>0.343750</td>\n",
       "      <td>0.381579</td>\n",
       "      <td>0.317073</td>\n",
       "      <td>0.0</td>\n",
       "      <td>0.250000</td>\n",
       "      <td>0.303030</td>\n",
       "      <td>1.0</td>\n",
       "    </tr>\n",
       "    <tr>\n",
       "      <th>3</th>\n",
       "      <td>0.057143</td>\n",
       "      <td>0.074074</td>\n",
       "      <td>0.242188</td>\n",
       "      <td>0.302632</td>\n",
       "      <td>0.292683</td>\n",
       "      <td>0.0</td>\n",
       "      <td>0.041667</td>\n",
       "      <td>0.060606</td>\n",
       "      <td>1.0</td>\n",
       "    </tr>\n",
       "    <tr>\n",
       "      <th>4</th>\n",
       "      <td>0.100000</td>\n",
       "      <td>0.222222</td>\n",
       "      <td>0.515625</td>\n",
       "      <td>0.631579</td>\n",
       "      <td>0.780488</td>\n",
       "      <td>0.0</td>\n",
       "      <td>0.333333</td>\n",
       "      <td>0.393939</td>\n",
       "      <td>1.0</td>\n",
       "    </tr>\n",
       "  </tbody>\n",
       "</table>\n",
       "</div>"
      ],
      "text/plain": [
       "        ace        df     1stIn    1stWon    2ndWon  SvGms   bpSaved  \\\n",
       "0  0.042857  0.000000  0.187500  0.223684  0.243902    0.0  0.125000   \n",
       "1  0.028571  0.370370  0.453125  0.421053  0.365854    0.0  0.166667   \n",
       "2  0.057143  0.074074  0.343750  0.381579  0.317073    0.0  0.250000   \n",
       "3  0.057143  0.074074  0.242188  0.302632  0.292683    0.0  0.041667   \n",
       "4  0.100000  0.222222  0.515625  0.631579  0.780488    0.0  0.333333   \n",
       "\n",
       "    bpFaced  won  \n",
       "0  0.121212  1.0  \n",
       "1  0.363636  1.0  \n",
       "2  0.303030  1.0  \n",
       "3  0.060606  1.0  \n",
       "4  0.393939  1.0  "
      ]
     },
     "metadata": {},
     "output_type": "display_data"
    }
   ],
   "source": [
    "lost_df = filtered_df[['l_ace', 'l_df', 'l_svpt','l_1stIn', 'l_1stWon', 'l_2ndWon', 'l_SvGms', 'l_bpSaved', 'l_bpFaced']]\n",
    "won_df = filtered_df[['w_ace', 'w_df', 'w_svpt', 'w_1stIn', 'w_1stWon', 'w_2ndWon','w_SvGms', 'w_bpSaved', 'w_bpFaced']]\n",
    "lost_df = lost_df.rename(columns={'l_ace':'ace', 'l_df':'df', 'l_svpt':'svpt','l_1stIn':'1stIn', 'l_1stWon':'1stWon', 'l_2ndWon':'2ndWon', \\\n",
    "                                  'l_SvGms':'SvGms', 'l_bpSaved':'bpSaved', 'l_bpFaced':'bpFaced'})\n",
    "won_df = won_df.rename(columns={'w_ace':'ace', 'w_df':'df', 'w_svpt':'svpt','w_1stIn':'1stIn', 'w_1stWon':'1stWon', 'w_2ndWon':'2ndWon',\\\n",
    "                                'w_SvGms':'SvGms', 'w_bpSaved':'bpSaved', 'w_bpFaced':'bpFaced'})\n",
    "\n",
    "won_df[\"won\"] = won_df['svpt']**0\n",
    "lost_df[\"won\"] = lost_df['svpt']*0\n",
    "\n",
    "big_df = pd.concat([won_df, lost_df], ignore_index=True)\n",
    "big_df = big_df.drop(columns=['svpt'])\n",
    "\n",
    "\n",
    "scaler = MinMaxScaler()\n",
    "df_scaled = pd.DataFrame(scaler.fit_transform(big_df), columns=big_df.columns)\n",
    "big_df = df_scaled\n",
    "display(big_df.head())\n",
    "display(big_df.head())"
   ]
  },
  {
   "cell_type": "code",
   "execution_count": 6,
   "metadata": {},
   "outputs": [
    {
     "data": {
      "text/plain": [
       "0.0    36456\n",
       "1.0    36456\n",
       "Name: won, dtype: int64"
      ]
     },
     "execution_count": 6,
     "metadata": {},
     "output_type": "execute_result"
    }
   ],
   "source": [
    "big_df['won'].value_counts()"
   ]
  },
  {
   "cell_type": "code",
   "execution_count": 7,
   "metadata": {},
   "outputs": [
    {
     "name": "stdout",
     "output_type": "stream",
     "text": [
      "<class 'pandas.core.frame.DataFrame'>\n",
      "RangeIndex: 72912 entries, 0 to 72911\n",
      "Data columns (total 9 columns):\n",
      "ace        72912 non-null float64\n",
      "df         72912 non-null float64\n",
      "1stIn      72912 non-null float64\n",
      "1stWon     72912 non-null float64\n",
      "2ndWon     72912 non-null float64\n",
      "SvGms      72912 non-null float64\n",
      "bpSaved    72912 non-null float64\n",
      "bpFaced    72912 non-null float64\n",
      "won        72912 non-null float64\n",
      "dtypes: float64(9)\n",
      "memory usage: 5.0 MB\n"
     ]
    }
   ],
   "source": [
    "big_df.info()"
   ]
  },
  {
   "cell_type": "code",
   "execution_count": 8,
   "metadata": {},
   "outputs": [],
   "source": [
    "def split_test_train(train_size, all_data):\n",
    "    msk = np.random.rand(len(all_data)) < train_size\n",
    "    train_df = all_data[msk]\n",
    "    test_df = all_data[~msk]\n",
    "    train_y = train_df[\"won\"]\n",
    "    train_x = train_df.drop(\"won\", axis=1)\n",
    "    test_y = test_df[\"won\"]\n",
    "    test_x  = test_df.drop(\"won\", axis=1)\n",
    "    return (train_x, train_y, test_x, test_y)\n",
    "def eval_for_conclusion(model_id, clf, test_x, test_y):\n",
    "    y_pred = clf.predict(test_x)\n",
    "    print(confusion_matrix(test_y, y_pred))\n",
    "    accuracy = metrics.accuracy_score(test_y, y_pred)\n",
    "    precision = metrics.precision_score(test_y, y_pred)\n",
    "    recall = metrics.recall_score(test_y, y_pred)\n",
    "    print(\"Final {0} model accuracy:\".format(model_id), accuracy)\n",
    "    print(\"Final {0} model precision:\".format(model_id), precision) \n",
    "    print(\"Final {0} model recall:\".format(model_id), recall) \n",
    "    return {\"model\":model_id, \"recall\":recall, \"accuracy\":accuracy, \"precision\":precision}\n",
    "\n",
    "def cross_validate(all_data, model):\n",
    "    depth = []\n",
    "    all_y = all_data[\"won\"]\n",
    "    all_x  = all_data.drop(\"won\", axis=1)\n",
    "    for i in range(2,10):\n",
    "        scores = cross_val_score(estimator=model, X=all_x, y=all_y, cv=i, n_jobs=4)\n",
    "        depth.append((i,scores.mean()))\n",
    "    return depth\n",
    "    \n",
    "def train_and_test(all_data, model):\n",
    "    test_scores = []\n",
    "    train_scores = []\n",
    "    times = []\n",
    "    for i in range(1,10):\n",
    "        (train_x, train_y, test_x, test_y) = split_test_train(0.1 * i, big_df)\n",
    "        start = time.time()\n",
    "        model.fit(train_x, train_y)\n",
    "        end = time.time()\n",
    "        times.append(end - start)\n",
    "        pred_test_y = model.predict(test_x) # TODO add wallclock time\n",
    "        test_score = round(model.score(test_x, test_y) * 100, 2)\n",
    "        pred_train_y = model.predict(train_x)\n",
    "        train_score = round(model.score(train_x, train_y) * 100, 2)\n",
    "        test_scores.append(test_score)\n",
    "        train_scores.append(train_score)\n",
    "    return (test_scores, train_scores, times)\n",
    "\n",
    "def plot_data(x_vars, x_label, all_y_vars, y_var_labels, y_label, title, y_bounds=None):\n",
    "    plt.rcParams[\"figure.figsize\"] = (4,3)\n",
    "\n",
    "    i = 0\n",
    "    for y_var in all_y_vars:\n",
    "        plt.plot(x_vars, y_var, label=y_var_labels[i])\n",
    "        i += 1\n",
    "    plt.xlabel(x_label)\n",
    "    plt.ylabel(y_label)\n",
    "    plt.title(title)\n",
    "    if y_bounds != None:\n",
    "        plt.ylim(y_bounds)\n",
    "    leg = plt.legend();\n",
    "    plt.show()\n",
    "\n",
    "def evaluate_model(all_data, model, model_id):\n",
    "    (test_scores, train_scores, times) = train_and_test(all_data, model)\n",
    "    cv_scores = cross_validate(all_data, model)\n",
    "    \"\"\"print(\"{0} train timings (seconds): {1}\".format(model_id, times))\"\"\"\n",
    "    print(\"{0} test set scores: {1} \".format(model_id, test_scores))\n",
    "    print(\"{0} train set scores: {1}\".format(model_id, train_scores))\n",
    "    print(\"{0} cross validation set scores: {1}\".format(model_id, cv_scores))\n",
    "    plot_data([x * 10 for x in range(1,10)], \"Percentage of data in training set\", [test_scores, train_scores],\\\n",
    "              [\"test_scores\", \"train_scores\"], \"Accuracy\", \"{0} Accuracy Over Train/Test Split\".format(model_id), (50,103))\n",
    "    plot_data([x[0] for x in cv_scores], \"Number of folds\", [[x[1] for x in cv_scores]],\n",
    "             [\"cross_validation_accuracy\"], \"Accuracy\", \"{0} Accuracy Over Different Cross Validation Values of K\".format(model_id), (0.3,1))\n",
    "    return (test_scores, train_scores, times, cv_scores)\n",
    "\n",
    "def plot_grid_search(grid_results, plotting_func, title, x_label, y_label, grid_size, model_handles):\n",
    "    plt.rcParams[\"figure.figsize\"] = grid_size\n",
    "    means = grid_results.cv_results_['mean_test_score']\n",
    "    stds = grid_results.cv_results_['std_test_score']\n",
    "    params = grid_results.cv_results_['params']\n",
    "    plt.xlabel(x_label)\n",
    "    plt.ylabel(y_label)\n",
    "    plt.title(title)\n",
    "    plt.subplots\n",
    "    ax = plt.subplot()\n",
    "    for mean, std, params in zip(means, stds, params):\n",
    "        plotting_func(mean, params, plt, ax)\n",
    "    if handles: plt.legend(handles=model_handles)\n",
    "    plt.show()\n"
   ]
  },
  {
   "cell_type": "code",
   "execution_count": 9,
   "metadata": {},
   "outputs": [
    {
     "name": "stdout",
     "output_type": "stream",
     "text": [
      "Decision Tree test set scores: [63.44, 63.24, 63.59, 63.81, 63.35, 63.96, 63.7, 63.9, 63.89] \n",
      "Decision Tree train set scores: [77.38, 76.91, 77.2, 77.2, 77.41, 77.08, 77.21, 77.19, 77.17]\n",
      "Decision Tree cross validation set scores: [(2, 0.63892089093702), (3, 0.6377002413868774), (4, 0.640772438007461), (5, 0.6382513236097705), (6, 0.6391129032258064), (7, 0.6391951942067149), (8, 0.6388660302830811), (9, 0.6401694682239039)]\n"
     ]
    },
    {
     "data": {
      "image/png": "[encoded data removed]",
      "text/plain": [
       "<Figure size 288x216 with 1 Axes>"
      ]
     },
     "metadata": {
      "needs_background": "light"
     },
     "output_type": "display_data"
    },
    {
     "data": {
      "image/png": "[encoded data removed]",
      "text/plain": [
       "<Figure size 288x216 with 1 Axes>"
      ]
     },
     "metadata": {
      "needs_background": "light"
     },
     "output_type": "display_data"
    }
   ],
   "source": [
    "dt_model = DecisionTreeClassifier()\n",
    "(dt_test_scores, dt_train_scores, dt_times, dt_cv_scores) = evaluate_model(big_df, dt_model, \"Decision Tree\")\n",
    "optimal_test_split = dt_test_scores.index(max(dt_test_scores)) * 0.1\n",
    "(dt_grid_train_x, dt_grid_train_y, dt_grid_test_x, dt_grid_test_y) = split_test_train(optimal_test_split, big_df)\n",
    "\n",
    "\n",
    "dt_param_grid = {\"criterion\":[\"gini\",\"entropy\"], \"max_depth\":[x for x in range(2,31)], \"min_samples_split\":[3,5,7]}\n",
    "\n",
    "dt_grid_results = GridSearchCV(dt_model, dt_param_grid, cv=5).fit(dt_grid_train_x, dt_grid_train_y)"
   ]
  },
  {
   "cell_type": "code",
   "execution_count": 10,
   "metadata": {},
   "outputs": [
    {
     "name": "stdout",
     "output_type": "stream",
     "text": [
      "[[ 7767 10446]\n",
      " [ 1913 16242]]\n",
      "DT model accuracy: 0.6601682798064232\n",
      "DT model precision: 0.6085881294964028\n",
      "DT model recall: 0.894629578628477\n"
     ]
    }
   ],
   "source": [
    "print(confusion_matrix(dt_grid_test_y, dt_grid_results.predict(dt_grid_test_x)))\n",
    "print(\"DT model accuracy:\", metrics.accuracy_score(dt_grid_test_y, dt_grid_results.predict(dt_grid_test_x))) \n",
    "print(\"DT model precision:\", metrics.precision_score(dt_grid_test_y, dt_grid_results.predict(dt_grid_test_x))) \n",
    "print(\"DT model recall:\", metrics.recall_score(dt_grid_test_y, dt_grid_results.predict(dt_grid_test_x))) "
   ]
  },
  {
   "cell_type": "code",
   "execution_count": 11,
   "metadata": {},
   "outputs": [
    {
     "name": "stdout",
     "output_type": "stream",
     "text": [
      "KNN test set scores: [64.97, 65.54, 65.53, 65.73, 65.81, 65.89, 65.43, 66.34, 64.94] \n",
      "KNN train set scores: [69.97, 68.56, 69.42, 69.53, 69.21, 69.58, 69.73, 69.39, 69.55]\n",
      "KNN cross validation set scores: [(2, 0.6566820276497696), (3, 0.6570111915734036), (4, 0.658080974325214), (5, 0.6579741098310025), (6, 0.6584375685758174), (7, 0.658245556287031), (8, 0.6586707263550582), (9, 0.6586027328516151)]\n"
     ]
    },
    {
     "data": {
      "image/png": "[encoded data removed]",
      "text/plain": [
       "<Figure size 288x216 with 1 Axes>"
      ]
     },
     "metadata": {
      "needs_background": "light"
     },
     "output_type": "display_data"
    },
    {
     "data": {
      "image/png": "[encoded data removed]",
      "text/plain": [
       "<Figure size 288x216 with 1 Axes>"
      ]
     },
     "metadata": {
      "needs_background": "light"
     },
     "output_type": "display_data"
    },
    {
     "name": "stdout",
     "output_type": "stream",
     "text": [
      "Best parameters found:\n",
      " {'n_neighbors': 50} with score of:  0.6674542434982108\n",
      "[[3117 4156]\n",
      " [ 687 6545]]\n",
      "Final KNN model accuracy: 0.6661151327128576\n",
      "Final KNN model precision: 0.6116250817680591\n",
      "Final KNN model recall: 0.9050055309734514\n"
     ]
    },
    {
     "data": {
      "image/png": "[encoded data removed]",
      "text/plain": [
       "<Figure size 288x216 with 1 Axes>"
      ]
     },
     "metadata": {
      "needs_background": "light"
     },
     "output_type": "display_data"
    }
   ],
   "source": [
    "knn_classifier = KNeighborsClassifier()\n",
    "evaluate_model(big_df, knn_classifier, \"KNN\")\n",
    "knn_param_grid = {\"n_neighbors\":[x for x in range (2,21)] + [y*10 for y in range(3,11)]}\n",
    "(knn_grid_train_x, knn_grid_train_y, knn_grid_test_x, knn_grid_test_y) = split_test_train(0.8, big_df)\n",
    "knn_grid_results = GridSearchCV(KNeighborsClassifier(), knn_param_grid, cv=5).fit(knn_grid_train_x, knn_grid_train_y)\n",
    "\n",
    "plt.xlabel(\"Number of Neighbors (k)\")\n",
    "plt.ylabel(\"Accuracy\")\n",
    "plt.title(\"KNN Grid Search, Accuracy as a Function of K\")\n",
    "knn_means = knn_grid_results.cv_results_['mean_test_score']\n",
    "knn_stds = knn_grid_results.cv_results_['std_test_score']\n",
    "knn_params = knn_grid_results.cv_results_['params']\n",
    "k_vals = []\n",
    "knn_accuracies = []\n",
    "for mean, std, params in zip(knn_means, knn_stds, knn_params):\n",
    "    knn_accuracies.append(mean)\n",
    "    k_vals.append(params[\"n_neighbors\"])\n",
    "print('Best parameters found:\\n', knn_grid_results.best_params_, \"with score of: \", max(knn_grid_results.cv_results_['mean_test_score']))\n",
    "\n",
    "    \n",
    "eval_for_conclusion(\"KNN\", knn_grid_results, knn_grid_test_x, knn_grid_test_y)\n",
    "\n",
    "    \n",
    "plt.plot(k_vals, knn_accuracies, 'o', color=\"red\")\n",
    "plt.show()    "
   ]
  },
  {
   "cell_type": "code",
   "execution_count": 12,
   "metadata": {},
   "outputs": [
    {
     "name": "stderr",
     "output_type": "stream",
     "text": [
      "C:\\Users\\nivetha\\Anaconda3\\lib\\site-packages\\sklearn\\svm\\base.py:193: FutureWarning: The default value of gamma will change from 'auto' to 'scale' in version 0.22 to account better for unscaled features. Set gamma explicitly to 'auto' or 'scale' to avoid this warning.\n",
      "  \"avoid this warning.\", FutureWarning)\n",
      "C:\\Users\\nivetha\\Anaconda3\\lib\\site-packages\\sklearn\\svm\\base.py:193: FutureWarning: The default value of gamma will change from 'auto' to 'scale' in version 0.22 to account better for unscaled features. Set gamma explicitly to 'auto' or 'scale' to avoid this warning.\n",
      "  \"avoid this warning.\", FutureWarning)\n",
      "C:\\Users\\nivetha\\Anaconda3\\lib\\site-packages\\sklearn\\svm\\base.py:193: FutureWarning: The default value of gamma will change from 'auto' to 'scale' in version 0.22 to account better for unscaled features. Set gamma explicitly to 'auto' or 'scale' to avoid this warning.\n",
      "  \"avoid this warning.\", FutureWarning)\n",
      "C:\\Users\\nivetha\\Anaconda3\\lib\\site-packages\\sklearn\\svm\\base.py:193: FutureWarning: The default value of gamma will change from 'auto' to 'scale' in version 0.22 to account better for unscaled features. Set gamma explicitly to 'auto' or 'scale' to avoid this warning.\n",
      "  \"avoid this warning.\", FutureWarning)\n",
      "C:\\Users\\nivetha\\Anaconda3\\lib\\site-packages\\sklearn\\svm\\base.py:193: FutureWarning: The default value of gamma will change from 'auto' to 'scale' in version 0.22 to account better for unscaled features. Set gamma explicitly to 'auto' or 'scale' to avoid this warning.\n",
      "  \"avoid this warning.\", FutureWarning)\n",
      "C:\\Users\\nivetha\\Anaconda3\\lib\\site-packages\\sklearn\\svm\\base.py:193: FutureWarning: The default value of gamma will change from 'auto' to 'scale' in version 0.22 to account better for unscaled features. Set gamma explicitly to 'auto' or 'scale' to avoid this warning.\n",
      "  \"avoid this warning.\", FutureWarning)\n",
      "C:\\Users\\nivetha\\Anaconda3\\lib\\site-packages\\sklearn\\svm\\base.py:193: FutureWarning: The default value of gamma will change from 'auto' to 'scale' in version 0.22 to account better for unscaled features. Set gamma explicitly to 'auto' or 'scale' to avoid this warning.\n",
      "  \"avoid this warning.\", FutureWarning)\n",
      "C:\\Users\\nivetha\\Anaconda3\\lib\\site-packages\\sklearn\\svm\\base.py:193: FutureWarning: The default value of gamma will change from 'auto' to 'scale' in version 0.22 to account better for unscaled features. Set gamma explicitly to 'auto' or 'scale' to avoid this warning.\n",
      "  \"avoid this warning.\", FutureWarning)\n",
      "C:\\Users\\nivetha\\Anaconda3\\lib\\site-packages\\sklearn\\svm\\base.py:193: FutureWarning: The default value of gamma will change from 'auto' to 'scale' in version 0.22 to account better for unscaled features. Set gamma explicitly to 'auto' or 'scale' to avoid this warning.\n",
      "  \"avoid this warning.\", FutureWarning)\n"
     ]
    },
    {
     "name": "stdout",
     "output_type": "stream",
     "text": [
      "SVM test set scores: [66.87, 67.19, 67.4, 67.29, 67.42, 67.03, 66.82, 67.27, 67.08] \n",
      "SVM train set scores: [66.58, 67.11, 67.14, 67.44, 67.42, 67.68, 67.65, 67.52, 67.52]\n",
      "SVM cross validation set scores: [(2, 0.6733322361202545), (3, 0.6738671274961597), (4, 0.6739905639675225), (5, 0.674130876418473), (6, 0.6743608733816107), (7, 0.6744020188720649), (8, 0.6743608733816107), (9, 0.6743891582596246)]\n"
     ]
    },
    {
     "data": {
      "image/png": "[encoded data removed]",
      "text/plain": [
       "<Figure size 288x216 with 1 Axes>"
      ]
     },
     "metadata": {
      "needs_background": "light"
     },
     "output_type": "display_data"
    },
    {
     "data": {
      "image/png": "[encoded data removed]",
      "text/plain": [
       "<Figure size 288x216 with 1 Axes>"
      ]
     },
     "metadata": {
      "needs_background": "light"
     },
     "output_type": "display_data"
    },
    {
     "data": {
      "text/plain": [
       "([66.87, 67.19, 67.4, 67.29, 67.42, 67.03, 66.82, 67.27, 67.08],\n",
       " [66.58, 67.11, 67.14, 67.44, 67.42, 67.68, 67.65, 67.52, 67.52],\n",
       " [2.9600682258605957,\n",
       "  11.507206439971924,\n",
       "  21.750330924987793,\n",
       "  38.11216735839844,\n",
       "  65.37176156044006,\n",
       "  91.58168387413025,\n",
       "  109.63184690475464,\n",
       "  52.23491072654724,\n",
       "  65.66928172111511],\n",
       " [(2, 0.6733322361202545),\n",
       "  (3, 0.6738671274961597),\n",
       "  (4, 0.6739905639675225),\n",
       "  (5, 0.674130876418473),\n",
       "  (6, 0.6743608733816107),\n",
       "  (7, 0.6744020188720649),\n",
       "  (8, 0.6743608733816107),\n",
       "  (9, 0.6743891582596246)])"
      ]
     },
     "execution_count": 12,
     "metadata": {},
     "output_type": "execute_result"
    }
   ],
   "source": [
    "svm_classifier = svm.SVC()\n",
    "evaluate_model(big_df, svm_classifier, \"SVM\")"
   ]
  },
  {
   "cell_type": "code",
   "execution_count": 13,
   "metadata": {},
   "outputs": [
    {
     "name": "stdout",
     "output_type": "stream",
     "text": [
      "best params  {'C': 7, 'kernel': 'rbf'}\n",
      "SVM grid search model test set score:  0.6682259063080416\n",
      "Best SVM parameters found (cv):\n",
      " {'C': 7, 'kernel': 'rbf'} with score of:  0.6748436830835117\n"
     ]
    }
   ],
   "source": [
    "svm_parameter_space = {\n",
    "    'kernel': ['linear', 'rbf'],\n",
    "    'C': [ float(i) / 100 for i in range (1, 300, 5)]+[5,7,9],    \n",
    "}\n",
    "svm_grid_clf = GridSearchCV(svm_classifier, svm_parameter_space, n_jobs=-1, cv=3)\n",
    "(svm_train_x, svm_train_y, svm_test_x, svm_test_y) = split_test_train(0.1 * 8, big_df)\n",
    "scaler = StandardScaler()\n",
    "scaler.fit(svm_train_x)\n",
    "svm_train_x = scaler.transform(svm_train_x)\n",
    "svm_test_x = scaler.transform(svm_test_x)\n",
    "svm_grid_clf.fit(svm_train_x, svm_train_y)\n",
    "\n",
    "print(\"best params \", svm_grid_clf.best_params_)\n",
    "svm_grid_score = svm_grid_clf.score(svm_test_x,svm_test_y)\n",
    "print(\"SVM grid search model test set score: \", svm_grid_score)\n",
    "print('Best SVM parameters found (cv):\\n', svm_grid_clf.best_params_, \"with score of: \", max(svm_grid_clf.cv_results_['mean_test_score']))\n"
   ]
  },
  {
   "cell_type": "code",
   "execution_count": 14,
   "metadata": {},
   "outputs": [
    {
     "name": "stdout",
     "output_type": "stream",
     "text": [
      "Adaboost test set scores: [66.16, 66.27, 66.55, 66.4, 66.33, 66.66, 66.47, 66.95, 66.52] \n",
      "Adaboost train set scores: [67.46, 66.96, 67.14, 66.95, 66.56, 66.59, 66.79, 66.7, 66.7]\n",
      "Adaboost cross validation set scores: [(2, 0.6645408163265306), (3, 0.6651031380294053), (4, 0.6656654597322801), (5, 0.6657370375923908), (6, 0.6659260478384903), (7, 0.6653774412991004), (8, 0.6654734474434936), (9, 0.6658857217933623)]\n"
     ]
    },
    {
     "data": {
      "image/png": "[encoded data removed]",
      "text/plain": [
       "<Figure size 288x216 with 1 Axes>"
      ]
     },
     "metadata": {
      "needs_background": "light"
     },
     "output_type": "display_data"
    },
    {
     "data": {
      "image/png": "[encoded data removed]",
      "text/plain": [
       "<Figure size 288x216 with 1 Axes>"
      ]
     },
     "metadata": {
      "needs_background": "light"
     },
     "output_type": "display_data"
    },
    {
     "data": {
      "text/plain": [
       "([66.16, 66.27, 66.55, 66.4, 66.33, 66.66, 66.47, 66.95, 66.52],\n",
       " [67.46, 66.96, 67.14, 66.95, 66.56, 66.59, 66.79, 66.7, 66.7],\n",
       " [0.1377561092376709,\n",
       "  0.23365402221679688,\n",
       "  0.34308314323425293,\n",
       "  0.4144768714904785,\n",
       "  0.5573961734771729,\n",
       "  0.6802690029144287,\n",
       "  0.7920377254486084,\n",
       "  0.939457893371582,\n",
       "  1.0853099822998047],\n",
       " [(2, 0.6645408163265306),\n",
       "  (3, 0.6651031380294053),\n",
       "  (4, 0.6656654597322801),\n",
       "  (5, 0.6657370375923908),\n",
       "  (6, 0.6659260478384903),\n",
       "  (7, 0.6653774412991004),\n",
       "  (8, 0.6654734474434936),\n",
       "  (9, 0.6658857217933623)])"
      ]
     },
     "execution_count": 14,
     "metadata": {},
     "output_type": "execute_result"
    }
   ],
   "source": [
    "boost_classifier = AdaBoostClassifier()\n",
    "evaluate_model(big_df, boost_classifier, \"Adaboost\")"
   ]
  },
  {
   "cell_type": "code",
   "execution_count": 15,
   "metadata": {},
   "outputs": [
    {
     "name": "stdout",
     "output_type": "stream",
     "text": [
      "best Boost params  {'learning_rate': 1.21, 'n_estimators': 100}\n",
      "Bost grid search model test set score:  0.6680753775807122\n",
      "Best Boost parameters found through cv:\n",
      " {'learning_rate': 1.21, 'n_estimators': 100} with score of:  0.6696193440268136\n"
     ]
    }
   ],
   "source": [
    "boost_parameter_space = {\n",
    "    'n_estimators': [i*10 for i in range(5,11)],\n",
    "    'learning_rate': [ float(i) / 100 for i in range (1, 150, 10)]\n",
    "}\n",
    "boost_grid_clf = GridSearchCV(boost_classifier, boost_parameter_space, n_jobs=-1, cv=3)\n",
    "(boost_train_x, boost_train_y, boost_test_x, boost_test_y) = split_test_train(0.1 * 8, big_df)\n",
    "scaler = StandardScaler()\n",
    "scaler.fit(boost_train_x)\n",
    "boost_train_x = scaler.transform(boost_train_x)\n",
    "boost_test_x = scaler.transform(boost_test_x)\n",
    "boost_grid_clf.fit(boost_train_x, boost_train_y)\n",
    "\n",
    "print(\"best Boost params \", boost_grid_clf.best_params_)\n",
    "boost_grid_score = boost_grid_clf.score(boost_test_x,boost_test_y)\n",
    "print(\"Bost grid search model test set score: \", boost_grid_score)\n",
    "print('Best Boost parameters found through cv:\\n', boost_grid_clf.best_params_, \"with score of: \", max(boost_grid_clf.cv_results_['mean_test_score']))\n"
   ]
  },
  {
   "cell_type": "code",
   "execution_count": 16,
   "metadata": {},
   "outputs": [
    {
     "name": "stdout",
     "output_type": "stream",
     "text": [
      "[[6463  762]\n",
      " [4029 3180]]\n",
      "Final AdaBoosting model accuracy: 0.6680753775807122\n",
      "Final AdaBoosting model precision: 0.806697108066971\n",
      "Final AdaBoosting model recall: 0.44111527257594674\n"
     ]
    },
    {
     "data": {
      "text/plain": [
       "{'model': 'AdaBoosting',\n",
       " 'recall': 0.44111527257594674,\n",
       " 'accuracy': 0.6680753775807122,\n",
       " 'precision': 0.806697108066971}"
      ]
     },
     "execution_count": 16,
     "metadata": {},
     "output_type": "execute_result"
    }
   ],
   "source": [
    "def plotting_func_boost(mean, params, plt, ax):\n",
    "    x_var = \"learning_rate\"\n",
    "    cmap = cm.hot\n",
    "    norm = Normalize(vmin=-110, vmax=-20)\n",
    "    ax.plot(params[x_var], mean,\"o\", color=cmap(norm(-1*params[\"n_estimators\"])))\n",
    "    \n",
    "cmap = cm.hot\n",
    "norm = Normalize(vmin=-110, vmax=-20)\n",
    "yellow_patch = mpatches.Patch(color=cmap(norm(-50)), label='n_estimators=50')\n",
    "red_patch = mpatches.Patch(color=cmap(norm(-80)), label='n_estimators=80')\n",
    "black_patch = mpatches.Patch(color=cmap(norm(-110)), label='n_estimators=110')\n",
    "handles = [yellow_patch, red_patch, black_patch] #[linear, rbf]#, red_patch, orange_patch, black_patch]\n",
    "\n",
    "\n",
    "eval_for_conclusion(\"AdaBoosting\", boost_grid_clf, boost_test_x, boost_test_y)"
   ]
  },
  {
   "cell_type": "code",
   "execution_count": 18,
   "metadata": {},
   "outputs": [
    {
     "name": "stdout",
     "output_type": "stream",
     "text": [
      "XGB test set scores: [66.1, 66.55, 66.57, 66.75, 67.06, 66.81, 67.0, 67.3, 67.46] \n",
      "XGB train set scores: [75.3, 73.05, 72.07, 70.95, 70.46, 70.37, 70.08, 69.78, 69.56]\n",
      "XGB cross validation set scores: [(2, 0.6688062321702875), (3, 0.6699171604125521), (4, 0.6706577792407284), (5, 0.6699339682908458), (6, 0.6705480579328507), (7, 0.670465766951942), (8, 0.6710829493087558), (9, 0.6711798742981715)]\n"
     ]
    },
    {
     "data": {
      "image/png": "[encoded data removed]",
      "text/plain": [
       "<Figure size 288x216 with 1 Axes>"
      ]
     },
     "metadata": {
      "needs_background": "light"
     },
     "output_type": "display_data"
    },
    {
     "data": {
      "image/png": "[encoded data removed]",
      "text/plain": [
       "<Figure size 288x216 with 1 Axes>"
      ]
     },
     "metadata": {
      "needs_background": "light"
     },
     "output_type": "display_data"
    }
   ],
   "source": [
    "from xgboost import XGBClassifier\n",
    "xg_model = XGBClassifier()\n",
    "(xg_test_scores, xg_train_scores, xg_times, xg_cv_scores) = evaluate_model(big_df, xg_model, \"XGB\")\n",
    "optimal_test_split = xg_test_scores.index(max(xg_test_scores)) * 0.1\n",
    "(xg_grid_train_x, xg_grid_train_y, xg_grid_test_x, xg_grid_test_y) = split_test_train(optimal_test_split, big_df)\n",
    "\n",
    "\n",
    "xg_param_grid = {\"learning_rate\":[0.01, 0.05, 0.1, 0.15, 0.2, 0.25], \"n_estimator\":[x for x in range(150,400,25)]}\n",
    "xg_grid_results = GridSearchCV(xg_model, xg_param_grid, cv=5).fit(xg_grid_train_x, xg_grid_train_y)"
   ]
  },
  {
   "cell_type": "code",
   "execution_count": 19,
   "metadata": {},
   "outputs": [
    {
     "name": "stdout",
     "output_type": "stream",
     "text": [
      "[[3262 4051]\n",
      " [ 752 6588]]\n",
      "DT model accuracy: 0.6722172933870197\n",
      "DT model precision: 0.6192311307453708\n",
      "DT model recall: 0.8975476839237058\n"
     ]
    }
   ],
   "source": [
    "print(confusion_matrix(xg_grid_test_y, xg_grid_results.predict(xg_grid_test_x)))\n",
    "print(\"DT model accuracy:\", metrics.accuracy_score(xg_grid_test_y, xg_grid_results.predict(xg_grid_test_x))) \n",
    "print(\"DT model precision:\", metrics.precision_score(xg_grid_test_y, xg_grid_results.predict(xg_grid_test_x))) \n",
    "print(\"DT model recall:\", metrics.recall_score(xg_grid_test_y, xg_grid_results.predict(xg_grid_test_x))) "
   ]
  },
  {
   "cell_type": "code",
   "execution_count": 20,
   "metadata": {},
   "outputs": [
    {
     "name": "stdout",
     "output_type": "stream",
     "text": [
      "Confusion Matrix for Decision Tree\n",
      "[[ 7767 10446]\n",
      " [ 1913 16242]]\n",
      "Final Decision Tree model accuracy: 0.6601682798064232\n",
      "Final Decision Tree model precision: 0.6085881294964028\n",
      "Final Decision Tree model recall: 0.894629578628477\n",
      "\n",
      "\n",
      "Confusion Matrix for SVM\n",
      "[[6494  717]\n",
      " [4106 3220]]\n",
      "Final SVM model accuracy: 0.6682259063080416\n",
      "Final SVM model precision: 0.8178816357632716\n",
      "Final SVM model recall: 0.4395304395304395\n",
      "\n",
      "\n",
      "Confusion Matrix for AdaBoosting\n",
      "[[6463  762]\n",
      " [4029 3180]]\n",
      "Final AdaBoosting model accuracy: 0.6680753775807122\n",
      "Final AdaBoosting model precision: 0.806697108066971\n",
      "Final AdaBoosting model recall: 0.44111527257594674\n",
      "\n",
      "\n",
      "Confusion Matrix for KNN\n",
      "[[3117 4156]\n",
      " [ 687 6545]]\n",
      "Final KNN model accuracy: 0.6661151327128576\n",
      "Final KNN model precision: 0.6116250817680591\n",
      "Final KNN model recall: 0.9050055309734514\n",
      "\n",
      "\n",
      "Confusion Matrix for XGB\n",
      "[[3262 4051]\n",
      " [ 752 6588]]\n",
      "Final XGB model accuracy: 0.6722172933870197\n",
      "Final XGB model precision: 0.6192311307453708\n",
      "Final XGB model recall: 0.8975476839237058\n"
     ]
    },
    {
     "data": {
      "text/html": [
       "<div>\n",
       "<style scoped>\n",
       "    .dataframe tbody tr th:only-of-type {\n",
       "        vertical-align: middle;\n",
       "    }\n",
       "\n",
       "    .dataframe tbody tr th {\n",
       "        vertical-align: top;\n",
       "    }\n",
       "\n",
       "    .dataframe thead th {\n",
       "        text-align: right;\n",
       "    }\n",
       "</style>\n",
       "<table border=\"1\" class=\"dataframe\">\n",
       "  <thead>\n",
       "    <tr style=\"text-align: right;\">\n",
       "      <th></th>\n",
       "      <th>model</th>\n",
       "      <th>accuracy</th>\n",
       "      <th>recall</th>\n",
       "      <th>precision</th>\n",
       "    </tr>\n",
       "  </thead>\n",
       "  <tbody>\n",
       "    <tr>\n",
       "      <th>0</th>\n",
       "      <td>Decision Tree</td>\n",
       "      <td>0.660168</td>\n",
       "      <td>0.894630</td>\n",
       "      <td>0.608588</td>\n",
       "    </tr>\n",
       "    <tr>\n",
       "      <th>1</th>\n",
       "      <td>SVM</td>\n",
       "      <td>0.668226</td>\n",
       "      <td>0.439530</td>\n",
       "      <td>0.817882</td>\n",
       "    </tr>\n",
       "    <tr>\n",
       "      <th>2</th>\n",
       "      <td>AdaBoosting</td>\n",
       "      <td>0.668075</td>\n",
       "      <td>0.441115</td>\n",
       "      <td>0.806697</td>\n",
       "    </tr>\n",
       "    <tr>\n",
       "      <th>3</th>\n",
       "      <td>KNN</td>\n",
       "      <td>0.666115</td>\n",
       "      <td>0.905006</td>\n",
       "      <td>0.611625</td>\n",
       "    </tr>\n",
       "    <tr>\n",
       "      <th>4</th>\n",
       "      <td>XGB</td>\n",
       "      <td>0.672217</td>\n",
       "      <td>0.897548</td>\n",
       "      <td>0.619231</td>\n",
       "    </tr>\n",
       "  </tbody>\n",
       "</table>\n",
       "</div>"
      ],
      "text/plain": [
       "           model  accuracy    recall  precision\n",
       "0  Decision Tree  0.660168  0.894630   0.608588\n",
       "1            SVM  0.668226  0.439530   0.817882\n",
       "2    AdaBoosting  0.668075  0.441115   0.806697\n",
       "3            KNN  0.666115  0.905006   0.611625\n",
       "4            XGB  0.672217  0.897548   0.619231"
      ]
     },
     "execution_count": 20,
     "metadata": {},
     "output_type": "execute_result"
    }
   ],
   "source": [
    "eval_df = pd.DataFrame(columns=[\"model\", \"accuracy\", \"recall\", \"precision\"])\n",
    "print(\"Confusion Matrix for Decision Tree\")\n",
    "eval_df = eval_df.append(eval_for_conclusion(\"Decision Tree\", dt_grid_results, dt_grid_test_x, dt_grid_test_y), ignore_index=True)\n",
    "print(\"\\n\\nConfusion Matrix for SVM\")\n",
    "eval_df = eval_df.append(eval_for_conclusion(\"SVM\", svm_grid_clf, svm_test_x, svm_test_y), ignore_index=True)\n",
    "print(\"\\n\\nConfusion Matrix for AdaBoosting\")\n",
    "eval_df = eval_df.append(eval_for_conclusion(\"AdaBoosting\", boost_grid_clf, boost_test_x, boost_test_y), ignore_index=True)\n",
    "print(\"\\n\\nConfusion Matrix for KNN\")\n",
    "eval_df = eval_df.append(eval_for_conclusion(\"KNN\", knn_grid_results, knn_grid_test_x, knn_grid_test_y), ignore_index=True)\n",
    "print(\"\\n\\nConfusion Matrix for XGB\")\n",
    "eval_df = eval_df.append(eval_for_conclusion(\"XGB\", xg_grid_results, xg_grid_test_x, xg_grid_test_y), ignore_index=True)\n",
    "eval_df.head()"
   ]
  },
  {
   "cell_type": "code",
   "execution_count": null,
   "metadata": {},
   "outputs": [],
   "source": []
  }
 ],
 "metadata": {
  "kernelspec": {
   "display_name": "Python 3",
   "language": "python",
   "name": "python3"
  },
  "language_info": {
   "codemirror_mode": {
    "name": "ipython",
    "version": 3
   },
   "file_extension": ".py",
   "mimetype": "text/x-python",
   "name": "python",
   "nbconvert_exporter": "python",
   "pygments_lexer": "ipython3",
   "version": "3.7.3"
  }
 },
 "nbformat": 4,
 "nbformat_minor": 2
}
