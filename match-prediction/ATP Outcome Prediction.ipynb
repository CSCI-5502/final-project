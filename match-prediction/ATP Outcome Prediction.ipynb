{
 "cells": [
  {
   "cell_type": "markdown",
   "metadata": {},
   "source": [
    "Jeff Sackmann data - 2000 to 2020"
   ]
  },
  {
   "cell_type": "code",
   "execution_count": 1,
   "metadata": {},
   "outputs": [],
   "source": [
    "import time\n",
    "import numpy as np\n",
    "import pandas as pd\n",
    "import os\n",
    "from sklearn.tree import DecisionTreeClassifier\n",
    "from sklearn.neighbors import KNeighborsClassifier\n",
    "from sklearn.model_selection import cross_val_score\n",
    "from sklearn.neural_network import MLPClassifier\n",
    "from sklearn import ensemble\n",
    "from sklearn import svm\n",
    "import random\n",
    "import matplotlib.pyplot as plt\n",
    "from sklearn.model_selection import GridSearchCV\n",
    "from sklearn.preprocessing import StandardScaler\n",
    "import math\n",
    "import matplotlib.ticker as plticker\n",
    "import matplotlib.patches as mpatches\n",
    "import matplotlib.lines as mlines\n",
    "from sklearn.metrics import classification_report\n",
    "from sklearn.metrics import confusion_matrix\n",
    "from sklearn import metrics \n",
    "from sklearn.ensemble import AdaBoostClassifier\n",
    "import matplotlib.cm as cm\n",
    "from matplotlib.colors import Normalize"
   ]
  },
  {
   "cell_type": "code",
   "execution_count": 2,
   "metadata": {
    "_cell_guid": "b1076dfc-b9ad-4769-8c92-a6c4dae69d19",
    "_uuid": "8f2839f25d086af736a60e9eeb907d3b93b6e0e5"
   },
   "outputs": [
    {
     "name": "stderr",
     "output_type": "stream",
     "text": [
      "C:\\Users\\nivetha\\Anaconda3\\lib\\site-packages\\IPython\\core\\interactiveshell.py:3057: DtypeWarning: Columns (3,7) have mixed types. Specify dtype option on import or set low_memory=False.\n",
      "  interactivity=interactivity, compiler=compiler, result=result)\n"
     ]
    },
    {
     "data": {
      "text/html": [
       "<div>\n",
       "<style scoped>\n",
       "    .dataframe tbody tr th:only-of-type {\n",
       "        vertical-align: middle;\n",
       "    }\n",
       "\n",
       "    .dataframe tbody tr th {\n",
       "        vertical-align: top;\n",
       "    }\n",
       "\n",
       "    .dataframe thead th {\n",
       "        text-align: right;\n",
       "    }\n",
       "</style>\n",
       "<table border=\"1\" class=\"dataframe\">\n",
       "  <thead>\n",
       "    <tr style=\"text-align: right;\">\n",
       "      <th></th>\n",
       "      <th>tourney_id</th>\n",
       "      <th>tourney_name</th>\n",
       "      <th>surface</th>\n",
       "      <th>draw_size</th>\n",
       "      <th>tourney_level</th>\n",
       "      <th>tourney_date</th>\n",
       "      <th>match_num</th>\n",
       "      <th>winner_id</th>\n",
       "      <th>winner_seed</th>\n",
       "      <th>winner_entry</th>\n",
       "      <th>...</th>\n",
       "      <th>w_bpFaced</th>\n",
       "      <th>l_ace</th>\n",
       "      <th>l_df</th>\n",
       "      <th>l_svpt</th>\n",
       "      <th>l_1stIn</th>\n",
       "      <th>l_1stWon</th>\n",
       "      <th>l_2ndWon</th>\n",
       "      <th>l_SvGms</th>\n",
       "      <th>l_bpSaved</th>\n",
       "      <th>l_bpFaced</th>\n",
       "    </tr>\n",
       "  </thead>\n",
       "  <tbody>\n",
       "    <tr>\n",
       "      <th>0</th>\n",
       "      <td>2010-301</td>\n",
       "      <td>Auckland</td>\n",
       "      <td>Hard</td>\n",
       "      <td>28</td>\n",
       "      <td>A</td>\n",
       "      <td>20100111.0</td>\n",
       "      <td>1.0</td>\n",
       "      <td>103752</td>\n",
       "      <td>NaN</td>\n",
       "      <td>NaN</td>\n",
       "      <td>...</td>\n",
       "      <td>9.0</td>\n",
       "      <td>0.0</td>\n",
       "      <td>6.0</td>\n",
       "      <td>64.0</td>\n",
       "      <td>42.0</td>\n",
       "      <td>22.0</td>\n",
       "      <td>11.0</td>\n",
       "      <td>9.0</td>\n",
       "      <td>8.0</td>\n",
       "      <td>12.0</td>\n",
       "    </tr>\n",
       "    <tr>\n",
       "      <th>1</th>\n",
       "      <td>2010-301</td>\n",
       "      <td>Auckland</td>\n",
       "      <td>Hard</td>\n",
       "      <td>28</td>\n",
       "      <td>A</td>\n",
       "      <td>20100111.0</td>\n",
       "      <td>2.0</td>\n",
       "      <td>104545</td>\n",
       "      <td>NaN</td>\n",
       "      <td>NaN</td>\n",
       "      <td>...</td>\n",
       "      <td>5.0</td>\n",
       "      <td>5.0</td>\n",
       "      <td>5.0</td>\n",
       "      <td>89.0</td>\n",
       "      <td>56.0</td>\n",
       "      <td>37.0</td>\n",
       "      <td>22.0</td>\n",
       "      <td>15.0</td>\n",
       "      <td>4.0</td>\n",
       "      <td>7.0</td>\n",
       "    </tr>\n",
       "    <tr>\n",
       "      <th>2</th>\n",
       "      <td>2010-301</td>\n",
       "      <td>Auckland</td>\n",
       "      <td>Hard</td>\n",
       "      <td>28</td>\n",
       "      <td>A</td>\n",
       "      <td>20100111.0</td>\n",
       "      <td>3.0</td>\n",
       "      <td>104338</td>\n",
       "      <td>7.0</td>\n",
       "      <td>NaN</td>\n",
       "      <td>...</td>\n",
       "      <td>2.0</td>\n",
       "      <td>4.0</td>\n",
       "      <td>2.0</td>\n",
       "      <td>53.0</td>\n",
       "      <td>29.0</td>\n",
       "      <td>18.0</td>\n",
       "      <td>8.0</td>\n",
       "      <td>7.0</td>\n",
       "      <td>5.0</td>\n",
       "      <td>9.0</td>\n",
       "    </tr>\n",
       "    <tr>\n",
       "      <th>3</th>\n",
       "      <td>2010-301</td>\n",
       "      <td>Auckland</td>\n",
       "      <td>Hard</td>\n",
       "      <td>28</td>\n",
       "      <td>A</td>\n",
       "      <td>20100111.0</td>\n",
       "      <td>4.0</td>\n",
       "      <td>103967</td>\n",
       "      <td>NaN</td>\n",
       "      <td>Q</td>\n",
       "      <td>...</td>\n",
       "      <td>11.0</td>\n",
       "      <td>5.0</td>\n",
       "      <td>3.0</td>\n",
       "      <td>67.0</td>\n",
       "      <td>35.0</td>\n",
       "      <td>21.0</td>\n",
       "      <td>18.0</td>\n",
       "      <td>12.0</td>\n",
       "      <td>1.0</td>\n",
       "      <td>5.0</td>\n",
       "    </tr>\n",
       "    <tr>\n",
       "      <th>4</th>\n",
       "      <td>2010-301</td>\n",
       "      <td>Auckland</td>\n",
       "      <td>Hard</td>\n",
       "      <td>28</td>\n",
       "      <td>A</td>\n",
       "      <td>20100111.0</td>\n",
       "      <td>5.0</td>\n",
       "      <td>104907</td>\n",
       "      <td>NaN</td>\n",
       "      <td>WC</td>\n",
       "      <td>...</td>\n",
       "      <td>9.0</td>\n",
       "      <td>10.0</td>\n",
       "      <td>3.0</td>\n",
       "      <td>75.0</td>\n",
       "      <td>47.0</td>\n",
       "      <td>29.0</td>\n",
       "      <td>10.0</td>\n",
       "      <td>10.0</td>\n",
       "      <td>12.0</td>\n",
       "      <td>17.0</td>\n",
       "    </tr>\n",
       "  </tbody>\n",
       "</table>\n",
       "<p>5 rows × 49 columns</p>\n",
       "</div>"
      ],
      "text/plain": [
       "  tourney_id tourney_name surface draw_size tourney_level  tourney_date  \\\n",
       "0   2010-301     Auckland    Hard        28             A    20100111.0   \n",
       "1   2010-301     Auckland    Hard        28             A    20100111.0   \n",
       "2   2010-301     Auckland    Hard        28             A    20100111.0   \n",
       "3   2010-301     Auckland    Hard        28             A    20100111.0   \n",
       "4   2010-301     Auckland    Hard        28             A    20100111.0   \n",
       "\n",
       "   match_num winner_id  winner_seed winner_entry  ... w_bpFaced l_ace  l_df  \\\n",
       "0        1.0    103752          NaN          NaN  ...       9.0   0.0   6.0   \n",
       "1        2.0    104545          NaN          NaN  ...       5.0   5.0   5.0   \n",
       "2        3.0    104338          7.0          NaN  ...       2.0   4.0   2.0   \n",
       "3        4.0    103967          NaN            Q  ...      11.0   5.0   3.0   \n",
       "4        5.0    104907          NaN           WC  ...       9.0  10.0   3.0   \n",
       "\n",
       "  l_svpt  l_1stIn  l_1stWon  l_2ndWon  l_SvGms  l_bpSaved l_bpFaced  \n",
       "0   64.0     42.0      22.0      11.0      9.0        8.0      12.0  \n",
       "1   89.0     56.0      37.0      22.0     15.0        4.0       7.0  \n",
       "2   53.0     29.0      18.0       8.0      7.0        5.0       9.0  \n",
       "3   67.0     35.0      21.0      18.0     12.0        1.0       5.0  \n",
       "4   75.0     47.0      29.0      10.0     10.0       12.0      17.0  \n",
       "\n",
       "[5 rows x 49 columns]"
      ]
     },
     "metadata": {},
     "output_type": "display_data"
    },
    {
     "data": {
      "text/plain": [
       "(53571, 49)"
      ]
     },
     "execution_count": 2,
     "metadata": {},
     "output_type": "execute_result"
    }
   ],
   "source": [
    "df = pd.read_csv('shortCombinedData.csv')\n",
    "display(df.head())\n",
    "df.shape"
   ]
  },
  {
   "cell_type": "code",
   "execution_count": 3,
   "metadata": {},
   "outputs": [],
   "source": [
    "df.to_csv('combinedData.csv')"
   ]
  },
  {
   "cell_type": "code",
   "execution_count": 4,
   "metadata": {},
   "outputs": [
    {
     "name": "stdout",
     "output_type": "stream",
     "text": [
      "<class 'pandas.core.frame.DataFrame'>\n",
      "Int64Index: 44451 entries, 0 to 53242\n",
      "Data columns (total 19 columns):\n",
      "best_of      44451 non-null float64\n",
      "w_ace        44451 non-null float64\n",
      "w_df         44451 non-null float64\n",
      "w_svpt       44451 non-null float64\n",
      "w_1stIn      44451 non-null float64\n",
      "w_1stWon     44451 non-null float64\n",
      "w_2ndWon     44451 non-null float64\n",
      "w_SvGms      44451 non-null float64\n",
      "w_bpSaved    44451 non-null float64\n",
      "w_bpFaced    44451 non-null float64\n",
      "l_ace        44451 non-null float64\n",
      "l_df         44451 non-null float64\n",
      "l_svpt       44451 non-null float64\n",
      "l_1stIn      44451 non-null float64\n",
      "l_1stWon     44451 non-null float64\n",
      "l_2ndWon     44451 non-null float64\n",
      "l_SvGms      44451 non-null float64\n",
      "l_bpSaved    44451 non-null float64\n",
      "l_bpFaced    44451 non-null float64\n",
      "dtypes: float64(19)\n",
      "memory usage: 6.8 MB\n"
     ]
    },
    {
     "data": {
      "text/plain": [
       "Index(['best_of', 'w_ace', 'w_df', 'w_svpt', 'w_1stIn', 'w_1stWon', 'w_2ndWon',\n",
       "       'w_SvGms', 'w_bpSaved', 'w_bpFaced', 'l_ace', 'l_df', 'l_svpt',\n",
       "       'l_1stIn', 'l_1stWon', 'l_2ndWon', 'l_SvGms', 'l_bpSaved', 'l_bpFaced'],\n",
       "      dtype='object')"
      ]
     },
     "execution_count": 4,
     "metadata": {},
     "output_type": "execute_result"
    }
   ],
   "source": [
    "eval_df = pd.DataFrame(columns=[\"model\", \"recall\", \"accuracy\", \"precision\"])\n",
    "df = df.drop(columns=[\"tourney_id\",\"tourney_name\", \"draw_size\", \"tourney_date\", \"match_num\", \"winner_id\", \"winner_seed\", \"tourney_level\", \"winner_ioc\",\\\n",
    "                                    \"winner_rank_points\", \"winner_entry\",\"winner_name\", \"loser_id\", \"loser_seed\", \"loser_rank_points\", \"loser_entry\", \"loser_ioc\",\\\n",
    "                                    \"score\", \"round\", \"loser_name\", \"minutes\",\"surface\", \"winner_hand\", \"winner_ht\", \"winner_age\", \"winner_rank\", \"loser_hand\", \"loser_ht\",\\\n",
    "                                    \"loser_age\", \"loser_rank\" ])\n",
    "df = df.dropna()\n",
    "df.info()\n",
    "filtered_df = df[(df.best_of == 3)]\n",
    "df.columns"
   ]
  },
  {
   "cell_type": "code",
   "execution_count": 5,
   "metadata": {},
   "outputs": [
    {
     "data": {
      "text/html": [
       "<div>\n",
       "<style scoped>\n",
       "    .dataframe tbody tr th:only-of-type {\n",
       "        vertical-align: middle;\n",
       "    }\n",
       "\n",
       "    .dataframe tbody tr th {\n",
       "        vertical-align: top;\n",
       "    }\n",
       "\n",
       "    .dataframe thead th {\n",
       "        text-align: right;\n",
       "    }\n",
       "</style>\n",
       "<table border=\"1\" class=\"dataframe\">\n",
       "  <thead>\n",
       "    <tr style=\"text-align: right;\">\n",
       "      <th></th>\n",
       "      <th>ace</th>\n",
       "      <th>df</th>\n",
       "      <th>1stIn</th>\n",
       "      <th>1stWon</th>\n",
       "      <th>2ndWon</th>\n",
       "      <th>SvGms</th>\n",
       "      <th>bpSaved</th>\n",
       "      <th>bpFaced</th>\n",
       "      <th>won</th>\n",
       "    </tr>\n",
       "  </thead>\n",
       "  <tbody>\n",
       "    <tr>\n",
       "      <th>0</th>\n",
       "      <td>2.0</td>\n",
       "      <td>4.0</td>\n",
       "      <td>31.0</td>\n",
       "      <td>25.0</td>\n",
       "      <td>14.0</td>\n",
       "      <td>9.0</td>\n",
       "      <td>8.0</td>\n",
       "      <td>9.0</td>\n",
       "      <td>1.0</td>\n",
       "    </tr>\n",
       "    <tr>\n",
       "      <th>1</th>\n",
       "      <td>11.0</td>\n",
       "      <td>2.0</td>\n",
       "      <td>56.0</td>\n",
       "      <td>45.0</td>\n",
       "      <td>17.0</td>\n",
       "      <td>15.0</td>\n",
       "      <td>3.0</td>\n",
       "      <td>5.0</td>\n",
       "      <td>1.0</td>\n",
       "    </tr>\n",
       "    <tr>\n",
       "      <th>2</th>\n",
       "      <td>6.0</td>\n",
       "      <td>3.0</td>\n",
       "      <td>28.0</td>\n",
       "      <td>25.0</td>\n",
       "      <td>8.0</td>\n",
       "      <td>8.0</td>\n",
       "      <td>2.0</td>\n",
       "      <td>2.0</td>\n",
       "      <td>1.0</td>\n",
       "    </tr>\n",
       "    <tr>\n",
       "      <th>3</th>\n",
       "      <td>1.0</td>\n",
       "      <td>4.0</td>\n",
       "      <td>56.0</td>\n",
       "      <td>34.0</td>\n",
       "      <td>20.0</td>\n",
       "      <td>13.0</td>\n",
       "      <td>7.0</td>\n",
       "      <td>11.0</td>\n",
       "      <td>1.0</td>\n",
       "    </tr>\n",
       "    <tr>\n",
       "      <th>4</th>\n",
       "      <td>1.0</td>\n",
       "      <td>4.0</td>\n",
       "      <td>48.0</td>\n",
       "      <td>33.0</td>\n",
       "      <td>10.0</td>\n",
       "      <td>10.0</td>\n",
       "      <td>7.0</td>\n",
       "      <td>9.0</td>\n",
       "      <td>1.0</td>\n",
       "    </tr>\n",
       "  </tbody>\n",
       "</table>\n",
       "</div>"
      ],
      "text/plain": [
       "    ace   df  1stIn  1stWon  2ndWon  SvGms  bpSaved  bpFaced  won\n",
       "0   2.0  4.0   31.0    25.0    14.0    9.0      8.0      9.0  1.0\n",
       "1  11.0  2.0   56.0    45.0    17.0   15.0      3.0      5.0  1.0\n",
       "2   6.0  3.0   28.0    25.0     8.0    8.0      2.0      2.0  1.0\n",
       "3   1.0  4.0   56.0    34.0    20.0   13.0      7.0     11.0  1.0\n",
       "4   1.0  4.0   48.0    33.0    10.0   10.0      7.0      9.0  1.0"
      ]
     },
     "metadata": {},
     "output_type": "display_data"
    }
   ],
   "source": [
    "lost_df = filtered_df[['l_ace', 'l_df', 'l_svpt','l_1stIn', 'l_1stWon', 'l_2ndWon', 'l_SvGms', 'l_bpSaved', 'l_bpFaced']]\n",
    "won_df = filtered_df[['w_ace', 'w_df', 'w_svpt', 'w_1stIn', 'w_1stWon', 'w_2ndWon','w_SvGms', 'w_bpSaved', 'w_bpFaced']]\n",
    "lost_df = lost_df.rename(columns={'l_ace':'ace', 'l_df':'df', 'l_svpt':'svpt','l_1stIn':'1stIn', 'l_1stWon':'1stWon', 'l_2ndWon':'2ndWon', \\\n",
    "                                  'l_SvGms':'SvGms', 'l_bpSaved':'bpSaved', 'l_bpFaced':'bpFaced'})\n",
    "won_df = won_df.rename(columns={'w_ace':'ace', 'w_df':'df', 'w_svpt':'svpt','w_1stIn':'1stIn', 'w_1stWon':'1stWon', 'w_2ndWon':'2ndWon',\\\n",
    "                                'w_SvGms':'SvGms', 'w_bpSaved':'bpSaved', 'w_bpFaced':'bpFaced'})\n",
    "\n",
    "won_df[\"won\"] = won_df['svpt']**0\n",
    "lost_df[\"won\"] = lost_df['svpt']*0\n",
    "\n",
    "big_df = pd.concat([won_df, lost_df], ignore_index=True)\n",
    "big_df = big_df.drop(columns=['svpt'])\n",
    "display(big_df.head())"
   ]
  },
  {
   "cell_type": "code",
   "execution_count": 6,
   "metadata": {},
   "outputs": [
    {
     "data": {
      "text/plain": [
       "0.0    36252\n",
       "1.0    36252\n",
       "Name: won, dtype: int64"
      ]
     },
     "execution_count": 6,
     "metadata": {},
     "output_type": "execute_result"
    }
   ],
   "source": [
    "big_df['won'].value_counts()"
   ]
  },
  {
   "cell_type": "code",
   "execution_count": 7,
   "metadata": {},
   "outputs": [],
   "source": [
    "def split_test_train(train_size, all_data):\n",
    "    msk = np.random.rand(len(all_data)) < train_size\n",
    "    train_df = all_data[msk]\n",
    "    test_df = all_data[~msk]\n",
    "    train_y = train_df[\"won\"]\n",
    "    train_x = train_df.drop(\"won\", axis=1)\n",
    "    test_y = test_df[\"won\"]\n",
    "    test_x  = test_df.drop(\"won\", axis=1)\n",
    "    return (train_x, train_y, test_x, test_y)"
   ]
  },
  {
   "cell_type": "code",
   "execution_count": 8,
   "metadata": {},
   "outputs": [],
   "source": [
    "def eval_for_conclusion(model_id, clf, test_x, test_y):\n",
    "    y_pred = clf.predict(test_x)\n",
    "    print(confusion_matrix(test_y, y_pred))\n",
    "    accuracy = metrics.accuracy_score(test_y, y_pred)\n",
    "    precision = metrics.precision_score(test_y, y_pred)\n",
    "    recall = metrics.recall_score(test_y, y_pred)\n",
    "    print(\"Final {0} model accuracy:\".format(model_id), accuracy)\n",
    "    print(\"Final {0} model precision:\".format(model_id), precision) \n",
    "    print(\"Final {0} model recall:\".format(model_id), recall) \n",
    "    return {\"model\":model_id, \"recall\":recall, \"accuracy\":accuracy, \"precision\":precision}\n",
    "\n",
    "def cross_validate(all_data, model):\n",
    "    depth = []\n",
    "    all_y = all_data[\"won\"]\n",
    "    all_x  = all_data.drop(\"won\", axis=1)\n",
    "    for i in range(2,10):\n",
    "        scores = cross_val_score(estimator=model, X=all_x, y=all_y, cv=i, n_jobs=4)\n",
    "        depth.append((i,scores.mean()))\n",
    "    return depth\n",
    "    \n",
    "def train_and_test(all_data, model):\n",
    "    test_scores = []\n",
    "    train_scores = []\n",
    "    times = []\n",
    "    for i in range(1,10):\n",
    "        (train_x, train_y, test_x, test_y) = split_test_train(0.1 * i, big_df)\n",
    "        start = time.time()\n",
    "        model.fit(train_x, train_y)\n",
    "        end = time.time()\n",
    "        times.append(end - start)\n",
    "        pred_test_y = model.predict(test_x) # TODO add wallclock time\n",
    "        test_score = round(model.score(test_x, test_y) * 100, 2)\n",
    "        pred_train_y = model.predict(train_x)\n",
    "        train_score = round(model.score(train_x, train_y) * 100, 2)\n",
    "        test_scores.append(test_score)\n",
    "        train_scores.append(train_score)\n",
    "    return (test_scores, train_scores, times)\n",
    "\n",
    "def plot_data(x_vars, x_label, all_y_vars, y_var_labels, y_label, title, y_bounds=None):\n",
    "    plt.rcParams[\"figure.figsize\"] = (4,3)\n",
    "\n",
    "    i = 0\n",
    "    for y_var in all_y_vars:\n",
    "        plt.plot(x_vars, y_var, label=y_var_labels[i])\n",
    "        i += 1\n",
    "    plt.xlabel(x_label)\n",
    "    plt.ylabel(y_label)\n",
    "    plt.title(title)\n",
    "    if y_bounds != None:\n",
    "        plt.ylim(y_bounds)\n",
    "    leg = plt.legend();\n",
    "    plt.show()\n",
    "\n",
    "def evaluate_model(all_data, model, model_id):\n",
    "    (test_scores, train_scores, times) = train_and_test(all_data, model)\n",
    "    cv_scores = cross_validate(all_data, model)\n",
    "    \"\"\"print(\"{0} train timings (seconds): {1}\".format(model_id, times))\"\"\"\n",
    "    print(\"{0} test set scores: {1} \".format(model_id, test_scores))\n",
    "    print(\"{0} train set scores: {1}\".format(model_id, train_scores))\n",
    "    print(\"{0} cross validation set scores: {1}\".format(model_id, cv_scores))\n",
    "    plot_data([x * 10 for x in range(1,10)], \"Percentage of data in training set\", [test_scores, train_scores],\\\n",
    "              [\"test_scores\", \"train_scores\"], \"Accuracy\", \"{0} Accuracy Over Train/Test Split\".format(model_id), (50,103))\n",
    "    plot_data([x[0] for x in cv_scores], \"Number of folds\", [[x[1] for x in cv_scores]],\n",
    "             [\"cross_validation_accuracy\"], \"Accuracy\", \"{0} Accuracy Over Different Cross Validation Values of K\".format(model_id), (0.3,1))\n",
    "    return (test_scores, train_scores, times, cv_scores)\n",
    "\n",
    "def plot_grid_search(grid_results, plotting_func, title, x_label, y_label, grid_size, model_handles):\n",
    "    plt.rcParams[\"figure.figsize\"] = grid_size\n",
    "    means = grid_results.cv_results_['mean_test_score']\n",
    "    stds = grid_results.cv_results_['std_test_score']\n",
    "    params = grid_results.cv_results_['params']\n",
    "    plt.xlabel(x_label)\n",
    "    plt.ylabel(y_label)\n",
    "    plt.title(title)\n",
    "    plt.subplots\n",
    "    ax = plt.subplot()\n",
    "    for mean, std, params in zip(means, stds, params):\n",
    "        plotting_func(mean, params, plt, ax)\n",
    "    if handles: plt.legend(handles=model_handles)\n",
    "    plt.show()\n"
   ]
  },
  {
   "cell_type": "code",
   "execution_count": 9,
   "metadata": {},
   "outputs": [
    {
     "name": "stdout",
     "output_type": "stream",
     "text": [
      "Decision Tree test set scores: [71.79, 72.35, 72.97, 73.33, 73.12, 73.7, 73.89, 73.15, 72.84] \n",
      "Decision Tree train set scores: [100.0, 99.99, 99.97, 99.97, 99.97, 99.97, 99.96, 99.97, 99.96]\n",
      "Decision Tree cross validation set scores: [(2, 0.7319458236786935), (3, 0.7322492552135055), (4, 0.7325802714333002), (5, 0.7342767085633849), (6, 0.7323320092684543), (7, 0.7322629774611852), (8, 0.7311458325825639), (9, 0.7330767957629925)]\n"
     ]
    },
    {
     "data": {
      "image/png": "[encoded data removed]",
      "text/plain": [
       "<Figure size 288x216 with 1 Axes>"
      ]
     },
     "metadata": {
      "needs_background": "light"
     },
     "output_type": "display_data"
    },
    {
     "data": {
      "image/png": "[encoded data removed]",
      "text/plain": [
       "<Figure size 288x216 with 1 Axes>"
      ]
     },
     "metadata": {
      "needs_background": "light"
     },
     "output_type": "display_data"
    }
   ],
   "source": [
    "dt_model = DecisionTreeClassifier()\n",
    "(dt_test_scores, dt_train_scores, dt_times, dt_cv_scores) = evaluate_model(big_df, dt_model, \"Decision Tree\")\n",
    "optimal_test_split = dt_test_scores.index(max(dt_test_scores)) * 0.1\n",
    "(dt_grid_train_x, dt_grid_train_y, dt_grid_test_x, dt_grid_test_y) = split_test_train(optimal_test_split, big_df)\n",
    "\n",
    "\n",
    "dt_param_grid = {\"criterion\":[\"gini\",\"entropy\"], \"max_depth\":[x for x in range(2,31)], \"min_samples_split\":[3,5,7]}  #\"splitter\":[\"best\", \"random\"], \n",
    "\n",
    "dt_grid_results = GridSearchCV(dt_model, dt_param_grid, cv=5).fit(dt_grid_train_x, dt_grid_train_y)"
   ]
  },
  {
   "cell_type": "code",
   "execution_count": 10,
   "metadata": {},
   "outputs": [
    {
     "name": "stdout",
     "output_type": "stream",
     "text": [
      "[[12021  2561]\n",
      " [ 3724 10729]]\n",
      "DT model accuracy: 0.7835371103840193\n",
      "DT model precision: 0.8072987208427389\n",
      "DT model recall: 0.7423372310247007\n"
     ]
    }
   ],
   "source": [
    "print(confusion_matrix(dt_grid_test_y, dt_grid_results.predict(dt_grid_test_x)))\n",
    "print(\"DT model accuracy:\", metrics.accuracy_score(dt_grid_test_y, dt_grid_results.predict(dt_grid_test_x))) \n",
    "print(\"DT model precision:\", metrics.precision_score(dt_grid_test_y, dt_grid_results.predict(dt_grid_test_x))) \n",
    "print(\"DT model recall:\", metrics.recall_score(dt_grid_test_y, dt_grid_results.predict(dt_grid_test_x))) "
   ]
  },
  {
   "cell_type": "code",
   "execution_count": 11,
   "metadata": {},
   "outputs": [
    {
     "name": "stdout",
     "output_type": "stream",
     "text": [
      "KNN test set scores: [73.83, 74.27, 74.45, 74.5, 74.71, 74.79, 74.65, 75.55, 75.19] \n",
      "KNN train set scores: [82.63, 82.91, 82.87, 83.09, 83.15, 83.15, 83.34, 83.13, 83.44]\n",
      "KNN cross validation set scores: [(2, 0.7482621648460774), (3, 0.750524109014675), (4, 0.750151715767406), (5, 0.7508963101403374), (6, 0.7521791901136489), (7, 0.7511583516797327), (8, 0.7511995853123612), (9, 0.7515309500165508)]\n"
     ]
    },
    {
     "data": {
      "image/png": "[encoded data removed]",
      "text/plain": [
       "<Figure size 288x216 with 1 Axes>"
      ]
     },
     "metadata": {
      "needs_background": "light"
     },
     "output_type": "display_data"
    },
    {
     "data": {
      "image/png": "[encoded data removed]",
      "text/plain": [
       "<Figure size 288x216 with 1 Axes>"
      ]
     },
     "metadata": {
      "needs_background": "light"
     },
     "output_type": "display_data"
    },
    {
     "name": "stdout",
     "output_type": "stream",
     "text": [
      "Best parameters found:\n",
      " {'n_neighbors': 80} with score of:  0.7700412118703982\n",
      "[[5333 1996]\n",
      " [1370 5812]]\n",
      "Final KNN model accuracy: 0.7680380401075046\n",
      "Final KNN model precision: 0.7443647540983607\n",
      "Final KNN model recall: 0.809245335561125\n"
     ]
    },
    {
     "data": {
      "image/png": "[encoded data removed]",
      "text/plain": [
       "<Figure size 288x216 with 1 Axes>"
      ]
     },
     "metadata": {
      "needs_background": "light"
     },
     "output_type": "display_data"
    }
   ],
   "source": [
    "knn_classifier = KNeighborsClassifier()\n",
    "evaluate_model(big_df, knn_classifier, \"KNN\")\n",
    "knn_param_grid = {\"n_neighbors\":[x for x in range (2,21)] + [y*10 for y in range(3,11)]}\n",
    "(knn_grid_train_x, knn_grid_train_y, knn_grid_test_x, knn_grid_test_y) = split_test_train(0.8, big_df)\n",
    "knn_grid_results = GridSearchCV(KNeighborsClassifier(), knn_param_grid, cv=5).fit(knn_grid_train_x, knn_grid_train_y)\n",
    "\n",
    "plt.xlabel(\"Number of Neighbors (k)\")\n",
    "plt.ylabel(\"Accuracy\")\n",
    "plt.title(\"KNN Grid Search, Accuracy as a Function of K\")\n",
    "knn_means = knn_grid_results.cv_results_['mean_test_score']\n",
    "knn_stds = knn_grid_results.cv_results_['std_test_score']\n",
    "knn_params = knn_grid_results.cv_results_['params']\n",
    "k_vals = []\n",
    "knn_accuracies = []\n",
    "for mean, std, params in zip(knn_means, knn_stds, knn_params):\n",
    "    knn_accuracies.append(mean)\n",
    "    k_vals.append(params[\"n_neighbors\"])\n",
    "print('Best parameters found:\\n', knn_grid_results.best_params_, \"with score of: \", max(knn_grid_results.cv_results_['mean_test_score']))\n",
    "\n",
    "    \n",
    "eval_for_conclusion(\"KNN\", knn_grid_results, knn_grid_test_x, knn_grid_test_y)\n",
    "\n",
    "    \n",
    "plt.plot(k_vals, knn_accuracies, 'o', color=\"red\")\n",
    "plt.show()    "
   ]
  },
  {
   "cell_type": "code",
   "execution_count": 12,
   "metadata": {},
   "outputs": [
    {
     "name": "stderr",
     "output_type": "stream",
     "text": [
      "C:\\Users\\nivetha\\Anaconda3\\lib\\site-packages\\sklearn\\svm\\base.py:193: FutureWarning: The default value of gamma will change from 'auto' to 'scale' in version 0.22 to account better for unscaled features. Set gamma explicitly to 'auto' or 'scale' to avoid this warning.\n",
      "  \"avoid this warning.\", FutureWarning)\n",
      "C:\\Users\\nivetha\\Anaconda3\\lib\\site-packages\\sklearn\\svm\\base.py:193: FutureWarning: The default value of gamma will change from 'auto' to 'scale' in version 0.22 to account better for unscaled features. Set gamma explicitly to 'auto' or 'scale' to avoid this warning.\n",
      "  \"avoid this warning.\", FutureWarning)\n",
      "C:\\Users\\nivetha\\Anaconda3\\lib\\site-packages\\sklearn\\svm\\base.py:193: FutureWarning: The default value of gamma will change from 'auto' to 'scale' in version 0.22 to account better for unscaled features. Set gamma explicitly to 'auto' or 'scale' to avoid this warning.\n",
      "  \"avoid this warning.\", FutureWarning)\n",
      "C:\\Users\\nivetha\\Anaconda3\\lib\\site-packages\\sklearn\\svm\\base.py:193: FutureWarning: The default value of gamma will change from 'auto' to 'scale' in version 0.22 to account better for unscaled features. Set gamma explicitly to 'auto' or 'scale' to avoid this warning.\n",
      "  \"avoid this warning.\", FutureWarning)\n",
      "C:\\Users\\nivetha\\Anaconda3\\lib\\site-packages\\sklearn\\svm\\base.py:193: FutureWarning: The default value of gamma will change from 'auto' to 'scale' in version 0.22 to account better for unscaled features. Set gamma explicitly to 'auto' or 'scale' to avoid this warning.\n",
      "  \"avoid this warning.\", FutureWarning)\n",
      "C:\\Users\\nivetha\\Anaconda3\\lib\\site-packages\\sklearn\\svm\\base.py:193: FutureWarning: The default value of gamma will change from 'auto' to 'scale' in version 0.22 to account better for unscaled features. Set gamma explicitly to 'auto' or 'scale' to avoid this warning.\n",
      "  \"avoid this warning.\", FutureWarning)\n",
      "C:\\Users\\nivetha\\Anaconda3\\lib\\site-packages\\sklearn\\svm\\base.py:193: FutureWarning: The default value of gamma will change from 'auto' to 'scale' in version 0.22 to account better for unscaled features. Set gamma explicitly to 'auto' or 'scale' to avoid this warning.\n",
      "  \"avoid this warning.\", FutureWarning)\n",
      "C:\\Users\\nivetha\\Anaconda3\\lib\\site-packages\\sklearn\\svm\\base.py:193: FutureWarning: The default value of gamma will change from 'auto' to 'scale' in version 0.22 to account better for unscaled features. Set gamma explicitly to 'auto' or 'scale' to avoid this warning.\n",
      "  \"avoid this warning.\", FutureWarning)\n",
      "C:\\Users\\nivetha\\Anaconda3\\lib\\site-packages\\sklearn\\svm\\base.py:193: FutureWarning: The default value of gamma will change from 'auto' to 'scale' in version 0.22 to account better for unscaled features. Set gamma explicitly to 'auto' or 'scale' to avoid this warning.\n",
      "  \"avoid this warning.\", FutureWarning)\n"
     ]
    },
    {
     "name": "stdout",
     "output_type": "stream",
     "text": [
      "SVM test set scores: [74.5, 75.5, 75.75, 76.59, 76.61, 76.73, 76.79, 77.68, 76.89] \n",
      "SVM train set scores: [97.77, 95.94, 94.97, 94.29, 93.81, 93.19, 93.0, 92.47, 92.26]\n",
      "SVM cross validation set scores: [(2, 0.7668956195520247), (3, 0.7676541983890545), (4, 0.7693644488579939), (5, 0.7699021566585346), (6, 0.7704816285998014), (7, 0.7717917182107288), (8, 0.7721502557745281), (9, 0.7716126006841002)]\n"
     ]
    },
    {
     "data": {
      "image/png": "[encoded data removed]",
      "text/plain": [
       "<Figure size 288x216 with 1 Axes>"
      ]
     },
     "metadata": {
      "needs_background": "light"
     },
     "output_type": "display_data"
    },
    {
     "data": {
      "image/png": "[encoded data removed]",
      "text/plain": [
       "<Figure size 288x216 with 1 Axes>"
      ]
     },
     "metadata": {
      "needs_background": "light"
     },
     "output_type": "display_data"
    },
    {
     "data": {
      "text/plain": [
       "([74.5, 75.5, 75.75, 76.59, 76.61, 76.73, 76.79, 77.68, 76.89],\n",
       " [97.77, 95.94, 94.97, 94.29, 93.81, 93.19, 93.0, 92.47, 92.26],\n",
       " [5.619107961654663,\n",
       "  36.419270753860474,\n",
       "  93.50178861618042,\n",
       "  152.49496865272522,\n",
       "  215.74432563781738,\n",
       "  302.6930115222931,\n",
       "  127.6664526462555,\n",
       "  162.445209980011,\n",
       "  204.69728994369507],\n",
       " [(2, 0.7668956195520247),\n",
       "  (3, 0.7676541983890545),\n",
       "  (4, 0.7693644488579939),\n",
       "  (5, 0.7699021566585346),\n",
       "  (6, 0.7704816285998014),\n",
       "  (7, 0.7717917182107288),\n",
       "  (8, 0.7721502557745281),\n",
       "  (9, 0.7716126006841002)])"
      ]
     },
     "execution_count": 12,
     "metadata": {},
     "output_type": "execute_result"
    }
   ],
   "source": [
    "svm_classifier = svm.SVC()\n",
    "evaluate_model(big_df, svm_classifier, \"SVM\")"
   ]
  },
  {
   "cell_type": "code",
   "execution_count": 13,
   "metadata": {},
   "outputs": [
    {
     "name": "stdout",
     "output_type": "stream",
     "text": [
      "best params  {'C': 2.66, 'kernel': 'rbf'}\n",
      "SVM grid search model test set score:  0.7933027011974381\n",
      "Best SVM parameters found (cv):\n",
      " {'C': 2.66, 'kernel': 'rbf'} with score of:  0.7965256277949776\n"
     ]
    }
   ],
   "source": [
    "svm_parameter_space = {\n",
    "    'kernel': ['linear', 'rbf'],\n",
    "    'C': [ float(i) / 100 for i in range (1, 300, 5)]+[5,7,9],    \n",
    "}\n",
    "svm_grid_clf = GridSearchCV(svm_classifier, svm_parameter_space, n_jobs=-1, cv=3)\n",
    "(svm_train_x, svm_train_y, svm_test_x, svm_test_y) = split_test_train(0.1 * 8, big_df)\n",
    "scaler = StandardScaler()\n",
    "scaler.fit(svm_train_x)\n",
    "svm_train_x = scaler.transform(svm_train_x)\n",
    "svm_test_x = scaler.transform(svm_test_x)\n",
    "svm_grid_clf.fit(svm_train_x, svm_train_y)\n",
    "\n",
    "print(\"best params \", svm_grid_clf.best_params_)\n",
    "svm_grid_score = svm_grid_clf.score(svm_test_x,svm_test_y)\n",
    "print(\"SVM grid search model test set score: \", svm_grid_score)\n",
    "print('Best SVM parameters found (cv):\\n', svm_grid_clf.best_params_, \"with score of: \", max(svm_grid_clf.cv_results_['mean_test_score']))\n"
   ]
  },
  {
   "cell_type": "code",
   "execution_count": null,
   "metadata": {},
   "outputs": [],
   "source": []
  },
  {
   "cell_type": "code",
   "execution_count": 14,
   "metadata": {},
   "outputs": [
    {
     "name": "stdout",
     "output_type": "stream",
     "text": [
      "Adaboost test set scores: [77.63, 77.9, 77.8, 77.76, 78.03, 77.95, 77.17, 77.86, 77.51] \n",
      "Adaboost train set scores: [77.95, 77.89, 77.95, 77.67, 78.06, 77.96, 78.02, 78.04, 78.08]\n",
      "Adaboost cross validation set scores: [(2, 0.7789087498620766), (3, 0.7790190886020082), (4, 0.7784811872448417), (5, 0.7791018865412143), (6, 0.7792535584243628), (7, 0.7791156202925074), (8, 0.7788120622852516), (9, 0.7794742359042259)]\n"
     ]
    },
    {
     "data": {
      "image/png": "[encoded data removed]",
      "text/plain": [
       "<Figure size 288x216 with 1 Axes>"
      ]
     },
     "metadata": {
      "needs_background": "light"
     },
     "output_type": "display_data"
    },
    {
     "data": {
      "image/png": "[encoded data removed]",
      "text/plain": [
       "<Figure size 288x216 with 1 Axes>"
      ]
     },
     "metadata": {
      "needs_background": "light"
     },
     "output_type": "display_data"
    },
    {
     "data": {
      "text/plain": [
       "([77.63, 77.9, 77.8, 77.76, 78.03, 77.95, 77.17, 77.86, 77.51],\n",
       " [77.95, 77.89, 77.95, 77.67, 78.06, 77.96, 78.02, 78.04, 78.08],\n",
       " [0.17852210998535156,\n",
       "  0.29625678062438965,\n",
       "  0.42391443252563477,\n",
       "  0.5883400440216064,\n",
       "  0.7240703105926514,\n",
       "  0.9720561504364014,\n",
       "  0.9809489250183105,\n",
       "  1.1275532245635986,\n",
       "  1.3181657791137695],\n",
       " [(2, 0.7789087498620766),\n",
       "  (3, 0.7790190886020082),\n",
       "  (4, 0.7784811872448417),\n",
       "  (5, 0.7791018865412143),\n",
       "  (6, 0.7792535584243628),\n",
       "  (7, 0.7791156202925074),\n",
       "  (8, 0.7788120622852516),\n",
       "  (9, 0.7794742359042259)])"
      ]
     },
     "execution_count": 14,
     "metadata": {},
     "output_type": "execute_result"
    }
   ],
   "source": [
    "boost_classifier = AdaBoostClassifier()\n",
    "evaluate_model(big_df, boost_classifier, \"Adaboost\")"
   ]
  },
  {
   "cell_type": "code",
   "execution_count": 15,
   "metadata": {},
   "outputs": [
    {
     "name": "stdout",
     "output_type": "stream",
     "text": [
      "best Boost params  {'learning_rate': 1.41, 'n_estimators': 90}\n",
      "Bost grid search model test set score:  0.7850544036132211\n",
      "Best Boost parameters found through cv:\n",
      " {'learning_rate': 1.41, 'n_estimators': 90} with score of:  0.7882054205316888\n"
     ]
    }
   ],
   "source": [
    "boost_parameter_space = {\n",
    "    'n_estimators': [i*10 for i in range(5,11)],\n",
    "    'learning_rate': [ float(i) / 100 for i in range (1, 150, 10)]\n",
    "}\n",
    "boost_grid_clf = GridSearchCV(boost_classifier, boost_parameter_space, n_jobs=-1, cv=3)\n",
    "(boost_train_x, boost_train_y, boost_test_x, boost_test_y) = split_test_train(0.1 * 8, big_df)\n",
    "scaler = StandardScaler()\n",
    "scaler.fit(boost_train_x)\n",
    "boost_train_x = scaler.transform(boost_train_x)\n",
    "boost_test_x = scaler.transform(boost_test_x)\n",
    "boost_grid_clf.fit(boost_train_x, boost_train_y)\n",
    "\n",
    "print(\"best Boost params \", boost_grid_clf.best_params_)\n",
    "boost_grid_score = boost_grid_clf.score(boost_test_x,boost_test_y)\n",
    "print(\"Bost grid search model test set score: \", boost_grid_score)\n",
    "print('Best Boost parameters found through cv:\\n', boost_grid_clf.best_params_, \"with score of: \", max(boost_grid_clf.cv_results_['mean_test_score']))\n"
   ]
  },
  {
   "cell_type": "code",
   "execution_count": 16,
   "metadata": {},
   "outputs": [
    {
     "name": "stdout",
     "output_type": "stream",
     "text": [
      "[[5736 1628]\n",
      " [1513 5736]]\n",
      "Final AdaBoosting model accuracy: 0.7850544036132211\n",
      "Final AdaBoosting model precision: 0.7789244975556763\n",
      "Final AdaBoosting model recall: 0.7912815560767003\n"
     ]
    },
    {
     "data": {
      "text/plain": [
       "{'model': 'AdaBoosting',\n",
       " 'recall': 0.7912815560767003,\n",
       " 'accuracy': 0.7850544036132211,\n",
       " 'precision': 0.7789244975556763}"
      ]
     },
     "execution_count": 16,
     "metadata": {},
     "output_type": "execute_result"
    }
   ],
   "source": [
    "def plotting_func_boost(mean, params, plt, ax):\n",
    "    x_var = \"learning_rate\"\n",
    "    cmap = cm.hot\n",
    "    norm = Normalize(vmin=-110, vmax=-20)\n",
    "    ax.plot(params[x_var], mean,\"o\", color=cmap(norm(-1*params[\"n_estimators\"])))\n",
    "    \n",
    "cmap = cm.hot\n",
    "norm = Normalize(vmin=-110, vmax=-20)\n",
    "yellow_patch = mpatches.Patch(color=cmap(norm(-50)), label='n_estimators=50')\n",
    "red_patch = mpatches.Patch(color=cmap(norm(-80)), label='n_estimators=80')\n",
    "black_patch = mpatches.Patch(color=cmap(norm(-110)), label='n_estimators=110')\n",
    "handles = [yellow_patch, red_patch, black_patch] #[linear, rbf]#, red_patch, orange_patch, black_patch]\n",
    "\n",
    "\n",
    "\n",
    "eval_for_conclusion(\"AdaBoosting\", boost_grid_clf, boost_test_x, boost_test_y)\n"
   ]
  },
  {
   "cell_type": "code",
   "execution_count": 20,
   "metadata": {},
   "outputs": [
    {
     "name": "stdout",
     "output_type": "stream",
     "text": [
      "Confusion Matrix for Decision Tree\n",
      "[[12021  2561]\n",
      " [ 3724 10729]]\n",
      "Final Decision Tree model accuracy: 0.7835371103840193\n",
      "Final Decision Tree model precision: 0.8072987208427389\n",
      "Final Decision Tree model recall: 0.7423372310247007\n",
      "\n",
      "\n",
      "Confusion Matrix for SVM\n",
      "[[5634 1557]\n",
      " [1412 5761]]\n",
      "Final SVM model accuracy: 0.7933027011974381\n",
      "Final SVM model precision: 0.7872369499863351\n",
      "Final SVM model recall: 0.8031507040289976\n",
      "\n",
      "\n",
      "Confusion Matrix for AdaBoosting\n",
      "[[5736 1628]\n",
      " [1513 5736]]\n",
      "Final AdaBoosting model accuracy: 0.7850544036132211\n",
      "Final AdaBoosting model precision: 0.7789244975556763\n",
      "Final AdaBoosting model recall: 0.7912815560767003\n",
      "\n",
      "\n",
      "Confusion Matrix for KNN\n",
      "[[5333 1996]\n",
      " [1370 5812]]\n",
      "Final KNN model accuracy: 0.7680380401075046\n",
      "Final KNN model precision: 0.7443647540983607\n",
      "Final KNN model recall: 0.809245335561125\n"
     ]
    },
    {
     "data": {
      "text/html": [
       "<div>\n",
       "<style scoped>\n",
       "    .dataframe tbody tr th:only-of-type {\n",
       "        vertical-align: middle;\n",
       "    }\n",
       "\n",
       "    .dataframe tbody tr th {\n",
       "        vertical-align: top;\n",
       "    }\n",
       "\n",
       "    .dataframe thead th {\n",
       "        text-align: right;\n",
       "    }\n",
       "</style>\n",
       "<table border=\"1\" class=\"dataframe\">\n",
       "  <thead>\n",
       "    <tr style=\"text-align: right;\">\n",
       "      <th></th>\n",
       "      <th>model</th>\n",
       "      <th>accuracy</th>\n",
       "      <th>recall</th>\n",
       "      <th>precision</th>\n",
       "    </tr>\n",
       "  </thead>\n",
       "  <tbody>\n",
       "    <tr>\n",
       "      <th>0</th>\n",
       "      <td>Decision Tree</td>\n",
       "      <td>0.783537</td>\n",
       "      <td>0.742337</td>\n",
       "      <td>0.807299</td>\n",
       "    </tr>\n",
       "    <tr>\n",
       "      <th>1</th>\n",
       "      <td>SVM</td>\n",
       "      <td>0.793303</td>\n",
       "      <td>0.803151</td>\n",
       "      <td>0.787237</td>\n",
       "    </tr>\n",
       "    <tr>\n",
       "      <th>2</th>\n",
       "      <td>AdaBoosting</td>\n",
       "      <td>0.785054</td>\n",
       "      <td>0.791282</td>\n",
       "      <td>0.778924</td>\n",
       "    </tr>\n",
       "    <tr>\n",
       "      <th>3</th>\n",
       "      <td>KNN</td>\n",
       "      <td>0.768038</td>\n",
       "      <td>0.809245</td>\n",
       "      <td>0.744365</td>\n",
       "    </tr>\n",
       "  </tbody>\n",
       "</table>\n",
       "</div>"
      ],
      "text/plain": [
       "           model  accuracy    recall  precision\n",
       "0  Decision Tree  0.783537  0.742337   0.807299\n",
       "1            SVM  0.793303  0.803151   0.787237\n",
       "2    AdaBoosting  0.785054  0.791282   0.778924\n",
       "3            KNN  0.768038  0.809245   0.744365"
      ]
     },
     "execution_count": 20,
     "metadata": {},
     "output_type": "execute_result"
    }
   ],
   "source": [
    "eval_df = pd.DataFrame(columns=[\"model\", \"accuracy\", \"recall\", \"precision\"])\n",
    "print(\"Confusion Matrix for Decision Tree\")\n",
    "eval_df = eval_df.append(eval_for_conclusion(\"Decision Tree\", dt_grid_results, dt_grid_test_x, dt_grid_test_y), ignore_index=True)\n",
    "print(\"\\n\\nConfusion Matrix for SVM\")\n",
    "eval_df = eval_df.append(eval_for_conclusion(\"SVM\", svm_grid_clf, svm_test_x, svm_test_y), ignore_index=True)\n",
    "print(\"\\n\\nConfusion Matrix for AdaBoosting\")\n",
    "eval_df = eval_df.append(eval_for_conclusion(\"AdaBoosting\", boost_grid_clf, boost_test_x, boost_test_y), ignore_index=True)\n",
    "print(\"\\n\\nConfusion Matrix for KNN\")\n",
    "eval_df = eval_df.append(eval_for_conclusion(\"KNN\", knn_grid_results, knn_grid_test_x, knn_grid_test_y), ignore_index=True)\n",
    "eval_df.head()"
   ]
  },
  {
   "cell_type": "code",
   "execution_count": null,
   "metadata": {},
   "outputs": [],
   "source": [
    "  "
   ]
  }
 ],
 "metadata": {
  "kernelspec": {
   "display_name": "Python 3",
   "language": "python",
   "name": "python3"
  },
  "language_info": {
   "codemirror_mode": {
    "name": "ipython",
    "version": 3
   },
   "file_extension": ".py",
   "mimetype": "text/x-python",
   "name": "python",
   "nbconvert_exporter": "python",
   "pygments_lexer": "ipython3",
   "version": "3.7.3"
  }
 },
 "nbformat": 4,
 "nbformat_minor": 4
}
